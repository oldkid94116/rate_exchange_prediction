{
 "cells": [
  {
   "cell_type": "code",
   "execution_count": 33,
   "metadata": {},
   "outputs": [],
   "source": [
    "#importing the libraries\n",
    "import numpy as np\n",
    "import pandas as pd\n",
    "import matplotlib.pyplot as plt\n",
    "from sklearn.preprocessing import StandardScaler\n",
    "from sklearn.metrics import mean_squared_error\n",
    "from math import sqrt\n",
    "\n",
    "import io\n",
    "%matplotlib inline\n"
   ]
  },
  {
   "cell_type": "code",
   "execution_count": 34,
   "metadata": {},
   "outputs": [],
   "source": [
    "# eu = pd.read_csv('./data/us_euro_daily_exrate.csv', parse_dates=[0])\n",
    "eu = pd.read_csv('./data/mf_weekly_data_use.csv', parse_dates=[0])\n",
    "df_test_scores = pd.read_csv('./data/test_scores.csv', parse_dates=[1])"
   ]
  },
  {
   "cell_type": "code",
   "execution_count": 35,
   "metadata": {},
   "outputs": [
    {
     "name": "stdout",
     "output_type": "stream",
     "text": [
      "<class 'pandas.core.frame.DataFrame'>\n",
      "RangeIndex: 822 entries, 0 to 821\n",
      "Data columns (total 6 columns):\n",
      "Date             822 non-null datetime64[ns]\n",
      "Rate             822 non-null float64\n",
      "USintRate        822 non-null float64\n",
      "EUInterest       822 non-null float64\n",
      "Import Energy    822 non-null float64\n",
      "Export Energy    822 non-null float64\n",
      "dtypes: datetime64[ns](1), float64(5)\n",
      "memory usage: 38.6 KB\n"
     ]
    }
   ],
   "source": [
    "eu.info()"
   ]
  },
  {
   "cell_type": "code",
   "execution_count": 36,
   "metadata": {},
   "outputs": [
    {
     "data": {
      "text/plain": [
       "822"
      ]
     },
     "execution_count": 36,
     "metadata": {},
     "output_type": "execute_result"
    }
   ],
   "source": [
    "# #data_to_use=btc['Value'].values\n",
    "period = 'Weekly'\n",
    "col='Import Energy'\n",
    "data_df = eu[~eu[col].isnull()]\n",
    "eu_rates = data_df[col].astype(float)\n",
    "# # eu_rates = eu['Value'].astype(float)\n",
    "data_to_use=eu_rates.values\n",
    "# data_to_use\n",
    "len(data_to_use)"
   ]
  },
  {
   "cell_type": "code",
   "execution_count": 37,
   "metadata": {},
   "outputs": [],
   "source": [
    "data_df_use = data_df.drop('Date', axis=1)"
   ]
  },
  {
   "cell_type": "code",
   "execution_count": 38,
   "metadata": {},
   "outputs": [],
   "source": [
    "\n",
    "scaler = StandardScaler()\n",
    "scaled_data = scaler.fit_transform(data_df_use)\n"
   ]
  },
  {
   "cell_type": "code",
   "execution_count": 39,
   "metadata": {},
   "outputs": [
    {
     "data": {
      "text/plain": [
       "array([[ 2.86426018,  1.55453548,  2.30259827, -0.21288874, -0.87276895],\n",
       "       [ 2.75315525,  1.52233685,  2.30259827, -0.748354  , -0.87276895],\n",
       "       [ 2.50271381,  1.44506015,  2.30259827, -0.31422679, -0.87276895],\n",
       "       ...,\n",
       "       [ 0.28425796, -0.08759436, -1.15623524, -1.05049152,  3.21735174],\n",
       "       [ 0.19592044, -0.04895601, -1.15623524, -1.48524426,  3.43384724],\n",
       "       [ 0.21231297, -0.04895601, -1.15623524, -1.44145622,  2.79737787]])"
      ]
     },
     "execution_count": 39,
     "metadata": {},
     "output_type": "execute_result"
    }
   ],
   "source": [
    "scaled_data"
   ]
  },
  {
   "cell_type": "code",
   "execution_count": 40,
   "metadata": {},
   "outputs": [
    {
     "data": {
      "text/plain": [
       "array([ 2.86426018,  2.75315525,  2.50271381,  2.55644488,  2.58467646,\n",
       "        2.63567545,  2.46628596,  2.5746588 ,  2.5746588 ,  2.49998172,\n",
       "        2.5983369 ,  2.69942418,  2.77501196,  2.64387171,  2.75861943,\n",
       "        2.85788531,  2.95077632,  2.73220924,  2.79322588,  2.63567545,\n",
       "        2.84058208,  2.88884898,  2.74586968,  2.79322588,  2.86334949,\n",
       "        3.08829144,  3.13929042,  3.0017753 ,  2.99813252,  2.96534746,\n",
       "        3.09193422,  2.97172233,  2.88793828,  2.92527683,  2.90888429,\n",
       "        2.92436613,  2.80688633,  2.70762044,  2.53732026,  2.55644488,\n",
       "        2.4580897 ,  2.44351856,  2.31784249,  2.20400547,  2.20491616,\n",
       "        1.94992124,  1.80603125,  1.92533244,  1.76140713,  1.5328224 ,\n",
       "        1.78144245,  1.78144245,  1.94081428,  1.82515587,  1.92988592,\n",
       "        1.85338745,  1.81878099,  1.91349339,  1.82242378,  1.88526181,\n",
       "        1.83881631,  1.80785264,  1.94718915,  1.89072599,  1.6994798 ,\n",
       "        1.54830423,  1.59930322,  1.70403328,  1.73499695,  1.60021391,\n",
       "        1.47180576,  1.43537791,  1.31334462,  1.30788045,  1.21043596,\n",
       "        1.10934868,  0.97911913,  1.04651065,  0.99733306,  0.99915445,\n",
       "        1.00826141,  1.01463628,  0.83431844,  1.057439  ,  1.20223969,\n",
       "        1.02829673,  1.06836736,  1.03649299,  0.81519382,  0.69771402,\n",
       "        0.48643251,  0.45637954,  0.29336492,  0.30611467,  0.35347087,\n",
       "        0.26422265,  0.40629125,  0.53834219,  0.62212624,  0.66948244,\n",
       "        0.47641485,  0.65946478,  0.61028719,  0.65764339,  0.94360198,\n",
       "        0.85526446,  0.79060503,  0.62030485,  0.59298396,  0.49736086,\n",
       "        0.41995169,  0.2760617 ,  0.39627359,  0.26240126,  0.41084473,\n",
       "        0.48187903,  0.32159651,  0.21049157,  0.15858189,  0.05749462,\n",
       "       -0.01991455, -0.07728841, -0.11371626, -0.20114309, -0.34867587,\n",
       "       -0.08639537, -0.21207144, -0.12009113, -0.25942764, -0.29130201,\n",
       "       -0.18475056, -0.11371626, -0.09003816,  0.03654861, -0.01080759,\n",
       "        0.09756525,  0.0866369 ,  0.13945727,  0.28243657,  0.17133164,\n",
       "        0.2287055 ,  0.23599107,  0.14947493,  0.02015608, -0.00443272,\n",
       "        0.08117272,  0.06478019, -0.03448569, -0.08275259, -0.11098417,\n",
       "        0.07844063,  0.13490379, -0.01262898, -0.06180658, -0.04450335,\n",
       "        0.13945727,  0.12215405, -0.01900386,  0.04656627, -0.00352202,\n",
       "       -0.08912746, -0.10005582, -0.13557297, -0.22846397, -0.28856992,\n",
       "       -0.39512137, -0.41424599, -0.4597808 , -0.57999269, -0.63281307,\n",
       "       -0.54720763, -0.58363548, -0.70657946, -0.46160219, -0.48528029,\n",
       "       -0.45522732, -0.44612036, -0.3887465 , -0.35414004, -0.46888776,\n",
       "       -0.5317258 , -0.55722529, -0.67015161, -0.59183174, -0.37235397,\n",
       "       -0.38055023, -0.38965719, -0.46524498, -0.38419302, -0.33683682,\n",
       "       -0.23210676, -0.17928638, -0.18748265,  0.0146919 ,  0.07570854,\n",
       "        0.00649563,  0.10029734,  0.18225999,  0.19683113,  0.1321717 ,\n",
       "        0.10576152,  0.07479785, -0.04632474, -0.10643069,  0.0629588 ,\n",
       "       -0.04450335, -0.17017942, -0.10916278,  0.02197747,  0.10667221,\n",
       "        0.11851126,  0.08299411,  0.1094043 ,  0.18225999,  0.09938664,\n",
       "        0.26604404,  0.3225072 ,  0.33434625,  0.35073878,  0.26786543,\n",
       "        0.14765354,  0.24691942,  0.25693708,  0.0629588 ,  0.09027968,\n",
       "        0.09210107,  0.07388715,  0.14218936,  0.20593809,  0.21504506,\n",
       "        0.23052689,  0.13763588,  0.2277948 ,  0.03290582,  0.1339931 ,\n",
       "        0.06842297,  0.0866369 , -0.05361031, -0.22026771, -0.28128435,\n",
       "       -0.36780049, -0.29130201, -0.28492714, -0.38055023, -0.22664258,\n",
       "       -0.21935701, -0.16107246, -0.30769454, -0.33137264, -0.22937467,\n",
       "       -0.25396347, -0.29039131, -0.37053258, -0.29494479, -0.32499777,\n",
       "       -0.30040897, -0.33774751, -0.24758859, -0.23392815, -0.3168015 ,\n",
       "       -0.25578486, -0.20569657, -0.14923341, -0.21389284, -0.27673087,\n",
       "       -0.26580252, -0.35322935, -0.33228334, -0.47161985, -0.59456383,\n",
       "       -0.54265415, -0.47890542, -0.49803004, -0.53354719, -0.43154922,\n",
       "       -0.3887465 , -0.4115139 , -0.37872884, -0.40696042, -0.43154922,\n",
       "       -0.50167282, -0.51624396, -0.52535092, -0.49165516, -0.59001035,\n",
       "       -0.58727826, -0.6246168 , -0.62734889, -0.6965618 , -0.73845382,\n",
       "       -0.75029287, -0.73116825, -0.6974725 , -0.69382971, -0.66377674,\n",
       "       -0.65831256, -0.61642054, -0.62006332, -0.65649117, -0.69838319,\n",
       "       -0.75029287, -0.82861274, -0.84955876, -0.76031053, -0.82770205,\n",
       "       -0.77943515, -0.68381205, -0.75939984, -0.75757844, -0.82132717,\n",
       "       -0.85775502, -0.96430647, -1.0289659 , -0.99982362, -1.00619849,\n",
       "       -1.04900121, -1.10546438, -1.14462431, -1.22385488, -1.2183907 ,\n",
       "       -1.29124639, -1.23387253, -1.22385488, -1.1236783 , -1.09271463,\n",
       "       -1.24662228, -1.27485386, -1.27485386, -1.20290887, -1.22749766,\n",
       "       -1.30126405, -1.15555266, -1.22749766, -1.29124639, -1.43695778,\n",
       "       -1.49433164, -1.5972403 , -1.65461416, -1.64641789, -1.6682746 ,\n",
       "       -1.64914998, -1.60907935, -1.53258088, -1.53804505, -1.59268682,\n",
       "       -1.66372112, -1.58084777, -1.6445965 , -1.50799208, -1.60543657,\n",
       "       -1.65097138, -1.70561315, -1.69013131, -1.62820397, -1.58357986,\n",
       "       -1.38140531, -1.23660462, -1.28031804, -1.22567627, -1.0535547 ,\n",
       "       -1.00801989, -1.10273229, -1.1947126 , -0.84227319, -0.6737944 ,\n",
       "       -0.66924092, -0.22846397, -0.25305277, -0.30587315, -0.28037366,\n",
       "       -0.16653664, -0.25942764, -0.23666024, -0.61186706, -0.87050477,\n",
       "       -0.9579316 , -0.90328983, -0.68563345, -0.55722529, -0.34594378,\n",
       "       -0.32135498, -0.35960422, -0.36233631, -0.25760625, -0.24121372,\n",
       "       -0.24849929, -0.36962188, -0.7211506 , -0.59001035, -0.66104465,\n",
       "       -0.44429896, -0.57452852, -0.56997503, -0.68472275, -0.70749015,\n",
       "       -0.93152141, -0.98707388, -0.92423584, -0.94700324, -0.92787863,\n",
       "       -0.95519951, -0.89418287, -0.98434179, -1.02623381, -1.05628678,\n",
       "       -1.01166267, -1.0280552 , -1.06721514, -1.09089324, -1.05537609,\n",
       "       -1.19015912, -1.24024741, -1.23114045, -1.19198051, -1.24480089,\n",
       "       -1.31765658, -1.37411974, -1.26210412, -1.29488918, -1.31583519,\n",
       "       -1.30946032, -1.34770955, -1.31583519, -1.19653399, -1.05719748,\n",
       "       -1.09089324, -1.0990895 , -0.99982362, -0.86777268, -0.74118591,\n",
       "       -0.75029287, -0.70657946, -0.7666854 , -0.74118591, -0.81222021,\n",
       "       -0.70293667, -0.63645585, -0.68107997, -0.671973  , -0.68107997,\n",
       "       -0.61733123, -0.58727826, -0.27490948, -0.08366329, -0.19203613,\n",
       "       -0.07091354,  0.1567605 ,  0.10667221, -0.06544936, -0.04905683,\n",
       "       -0.19294682, -0.22846397, -0.38419302, -0.35960422, -0.46524498,\n",
       "       -0.5772606 , -0.30040897, -0.25578486, -0.29949828, -0.36597909,\n",
       "       -0.28037366, -0.45340593, -0.67561579, -0.81222021, -0.89327217,\n",
       "       -0.92787863, -0.88416521, -0.87961173, -0.94427116, -0.78672072,\n",
       "       -0.76395332, -0.55722529, -0.62097402, -0.55631459, -0.51077978,\n",
       "       -0.39785346, -0.6009387 , -0.72843617, -0.74118591, -0.72934686,\n",
       "       -0.69838319, -0.77306028, -0.81404161, -0.92059306, -0.86504059,\n",
       "       -0.99344875, -0.99527014, -1.02714451, -1.12549969, -1.12823178,\n",
       "       -1.289425  , -1.15099918, -0.99344875, -1.00801989, -1.05992957,\n",
       "       -1.19835538, -1.09453602, -1.0772328 , -1.01530546, -1.15646336,\n",
       "       -1.04353704, -1.00073432, -1.09453602, -1.10455368, -1.00164501,\n",
       "       -1.03807286, -1.11274995, -1.13733874, -1.02168033, -0.77032819,\n",
       "       -0.82679135, -0.6965618 , -0.66286604, -0.69382971, -0.86412989,\n",
       "       -0.86959407, -1.0043771 , -0.815863  , -0.69838319, -0.55722529,\n",
       "       -0.63099168, -0.62097402, -0.44156688, -0.44976314, -0.41424599,\n",
       "       -0.27582017, -0.25305277, -0.40058555, -0.5308151 , -0.48528029,\n",
       "       -0.52808301, -0.5080477 , -0.66924092, -0.53536858, -0.48619099,\n",
       "       -0.51988675, -0.56724295, -0.60367079, -0.47617333, -0.47253055,\n",
       "       -0.54083276, -0.55995738, -0.47708403, -0.39421068, -0.27490948,\n",
       "       -0.15925107, -0.10096651, -0.13739436, -0.22482119, -0.1747329 ,\n",
       "       -0.24485651, -0.01991455,  0.01104912,  0.04565557, -0.07182424,\n",
       "       -0.08366329, -0.02902152, -0.03903917, -0.16744733, -0.19385752,\n",
       "       -0.3168015 , -0.50440491, -0.42335295, -0.35049726, -0.4597808 ,\n",
       "       -0.39967485, -0.44065618, -0.39512137, -0.34594378, -0.27126669,\n",
       "       -0.27126669, -0.40604973, -0.43428131, -0.39694276, -0.49985143,\n",
       "       -0.51715466, -0.54538624, -0.45340593, -0.61368845, -0.58818896,\n",
       "       -0.66559813, -0.78216724, -0.62006332, -0.61824193, -0.51715466,\n",
       "       -0.42244226, -0.42426365, -0.46888776, -0.42608504, -0.44338827,\n",
       "       -0.47890542, -0.46433428, -0.44156688, -0.48801238, -0.40422833,\n",
       "       -0.32864055, -0.38510371, -0.42244226, -0.55631459, -0.6018494 ,\n",
       "       -0.48892308, -0.43428131, -0.33592612, -0.45431662, -0.50440491,\n",
       "       -0.57088573, -0.56997503, -0.60640288, -0.59729592, -0.63372377,\n",
       "       -0.53263649, -0.51715466, -0.57452852, -0.69929389, -0.70657946,\n",
       "       -0.72843617, -0.71750781, -0.78307794, -0.83134483, -0.68199066,\n",
       "       -0.61550984, -0.67834788, -0.71113294, -0.74027522, -0.78125654,\n",
       "       -0.79764907, -0.77306028, -0.81859509, -0.74027522, -0.7685068 ,\n",
       "       -0.71477572, -0.77670306, -0.68836554, -0.7448287 , -0.78125654,\n",
       "       -0.79673838, -0.83771971, -0.86686198, -0.89327217, -0.82679135,\n",
       "       -0.81222021, -0.78854211, -0.88143312, -0.85320154, -0.86504059,\n",
       "       -0.81677369, -0.79036351, -0.75120357, -0.75757844, -0.75666775,\n",
       "       -0.69929389, -0.73025756, -0.75302496, -0.73663243, -0.6956511 ,\n",
       "       -0.65375908, -0.65558047, -0.64374142, -0.63372377, -0.5535825 ,\n",
       "       -0.5080477 , -0.40513903, -0.40422833, -0.33865821, -0.25487416,\n",
       "       -0.15834037, -0.22664258, -0.2940341 , -0.24849929, -0.16562594,\n",
       "       -0.1027879 , -0.14467993, -0.08639537, -0.11189487, -0.0326643 ,\n",
       "       -0.13921575,  0.00922772,  0.14583215,  0.26422265,  0.47368276,\n",
       "        0.64034016,  0.6321439 ,  0.60391232,  0.54927055,  0.57477004,\n",
       "        0.69953541,  0.95544103,  1.21954292,  1.00461863,  0.92812015,\n",
       "        0.85253237,  1.15943697,  1.01372559,  0.9399592 ,  0.7013568 ,\n",
       "        0.66766105,  0.53469941,  0.820658  ,  0.84980028,  0.76510554,\n",
       "        0.64125086,  0.60026953,  0.72958839,  0.73414187,  0.96090521,\n",
       "        0.86346072,  0.82430079,  0.87712116,  0.76328414,  0.58569839,\n",
       "        0.71774934,  0.75781997,  0.59844814,  0.583877  ,  0.7031782 ,\n",
       "        0.64216155,  0.58023422,  0.5829663 ,  0.83340775,  0.81337243,\n",
       "        1.04104647,  1.06017109,  1.10934868,  1.16125836,  0.93358432,\n",
       "        0.84342541,  0.96181591,  0.93267363,  0.87256768,  0.9873154 ,\n",
       "        0.97365496,  0.74780231,  0.67221453,  0.7505344 ,  0.89624578,\n",
       "        0.83796123,  0.71228516,  0.6312332 ,  0.56475238,  0.55018124,\n",
       "        0.62850111,  0.66948244,  0.52559245,  0.54016358,  0.62941181,\n",
       "        0.69224984,  0.74142744,  0.60391232,  0.63851877,  0.65673269,\n",
       "        0.75144509,  0.73778465,  0.81701522,  0.80062269,  0.8689249 ,\n",
       "        0.72048142,  0.78514085,  0.71774934,  0.6066444 ,  0.67039313,\n",
       "        0.72776699,  0.68678567,  0.7268563 ,  0.68041079,  0.66948244,\n",
       "        0.72958839,  0.85617515,  0.94724477,  0.89533509,  0.75508788,\n",
       "        1.15761558,  1.16125836,  1.1047952 ,  1.20588248,  1.27600608,\n",
       "        1.28147026,  1.19677551,  1.19040064,  1.13758026,  1.08567058,\n",
       "        1.00461863,  1.11754495,  1.14668723,  1.17400811,  1.19677551,\n",
       "        1.10388451,  1.04377856,  0.99369027,  1.07929571,  1.14486583,\n",
       "        1.0820278 ,  0.92538806,  0.84797889,  0.90079926,  0.70499959,\n",
       "        0.71957073,  0.64671503,  0.70499959,  0.7013568 ,  0.70044611,\n",
       "        0.54653846,  0.55746681,  0.51830688,  0.37988106,  0.31431094,\n",
       "        0.31431094,  0.27697239,  0.31795372,  0.23599107,  0.23325898,\n",
       "        0.12943962,  0.1813493 ,  0.17497442,  0.275151  ,  0.32888207,\n",
       "        0.25966917,  0.30338258,  0.43088004,  0.40629125,  0.28425796,\n",
       "        0.19592044,  0.21231297])"
      ]
     },
     "execution_count": 40,
     "metadata": {},
     "output_type": "execute_result"
    }
   ],
   "source": [
    "scaled_data[:,0]"
   ]
  },
  {
   "cell_type": "code",
   "execution_count": 41,
   "metadata": {},
   "outputs": [],
   "source": [
    "data_m30= pd.DataFrame(scaled_data[:,0]).rolling(window=4).mean()\n",
    "\n",
    "data_m30_ex= pd.DataFrame(scaled_data[:,0]).rolling(window=4).mean()\n",
    "data_m30_us_int= pd.DataFrame(scaled_data[:,1]).rolling(window=4).mean()\n",
    "data_m30_eu_int= pd.DataFrame(scaled_data[:,2]).rolling(window=4).mean()\n",
    "data_m30_oim= pd.DataFrame(scaled_data[:,3]).rolling(window=4).mean()\n",
    "data_m30_oex= pd.DataFrame(scaled_data[:,4]).rolling(window=4).mean()\n",
    "\n",
    "\n",
    "\n",
    "# data_m30 = scaled_data[col].rolling(window=4).mean()\n",
    "# data_m50 = scaled_data[col].rolling(window=8).mean()\n",
    "# data_m100 = scaled_data[col].rolling(window=12).mean()\n",
    "# data_m200 = scaled_data[col].rolling(window=24).mean()\n"
   ]
  },
  {
   "cell_type": "code",
   "execution_count": 42,
   "metadata": {},
   "outputs": [
    {
     "ename": "NameError",
     "evalue": "name 'data_m50' is not defined",
     "output_type": "error",
     "traceback": [
      "\u001b[1;31m---------------------------------------------------------------------------\u001b[0m",
      "\u001b[1;31mNameError\u001b[0m                                 Traceback (most recent call last)",
      "\u001b[1;32m<ipython-input-42-91865ea2f9f8>\u001b[0m in \u001b[0;36m<module>\u001b[1;34m\u001b[0m\n\u001b[0;32m      7\u001b[0m \u001b[1;31m# scaled_yearly_data = scaler.fit_transform(eu_yearly_arr_to_use.reshape(-1, 1))\u001b[0m\u001b[1;33m\u001b[0m\u001b[1;33m\u001b[0m\u001b[1;33m\u001b[0m\u001b[0m\n\u001b[0;32m      8\u001b[0m \u001b[0mscaled_data_m30\u001b[0m \u001b[1;33m=\u001b[0m \u001b[0mscaler\u001b[0m\u001b[1;33m.\u001b[0m\u001b[0mfit_transform\u001b[0m\u001b[1;33m(\u001b[0m\u001b[0mdata_m30\u001b[0m\u001b[1;33m.\u001b[0m\u001b[0mvalues\u001b[0m\u001b[1;33m.\u001b[0m\u001b[0mreshape\u001b[0m\u001b[1;33m(\u001b[0m\u001b[1;33m-\u001b[0m\u001b[1;36m1\u001b[0m\u001b[1;33m,\u001b[0m\u001b[1;36m1\u001b[0m\u001b[1;33m)\u001b[0m\u001b[1;33m)\u001b[0m\u001b[1;33m\u001b[0m\u001b[1;33m\u001b[0m\u001b[0m\n\u001b[1;32m----> 9\u001b[1;33m \u001b[0mscaled_data_m50\u001b[0m \u001b[1;33m=\u001b[0m \u001b[0mscaler\u001b[0m\u001b[1;33m.\u001b[0m\u001b[0mfit_transform\u001b[0m\u001b[1;33m(\u001b[0m\u001b[0mdata_m50\u001b[0m\u001b[1;33m.\u001b[0m\u001b[0mvalues\u001b[0m\u001b[1;33m.\u001b[0m\u001b[0mreshape\u001b[0m\u001b[1;33m(\u001b[0m\u001b[1;33m-\u001b[0m\u001b[1;36m1\u001b[0m\u001b[1;33m,\u001b[0m\u001b[1;36m1\u001b[0m\u001b[1;33m)\u001b[0m\u001b[1;33m)\u001b[0m\u001b[1;33m\u001b[0m\u001b[1;33m\u001b[0m\u001b[0m\n\u001b[0m\u001b[0;32m     10\u001b[0m \u001b[0mscaled_data_m100\u001b[0m \u001b[1;33m=\u001b[0m \u001b[0mscaler\u001b[0m\u001b[1;33m.\u001b[0m\u001b[0mfit_transform\u001b[0m\u001b[1;33m(\u001b[0m\u001b[0mdata_m100\u001b[0m\u001b[1;33m.\u001b[0m\u001b[0mvalues\u001b[0m\u001b[1;33m.\u001b[0m\u001b[0mreshape\u001b[0m\u001b[1;33m(\u001b[0m\u001b[1;33m-\u001b[0m\u001b[1;36m1\u001b[0m\u001b[1;33m,\u001b[0m\u001b[1;36m1\u001b[0m\u001b[1;33m)\u001b[0m\u001b[1;33m)\u001b[0m\u001b[1;33m\u001b[0m\u001b[1;33m\u001b[0m\u001b[0m\n\u001b[0;32m     11\u001b[0m \u001b[0mscaled_data_m200\u001b[0m \u001b[1;33m=\u001b[0m \u001b[0mscaler\u001b[0m\u001b[1;33m.\u001b[0m\u001b[0mfit_transform\u001b[0m\u001b[1;33m(\u001b[0m\u001b[0mdata_m200\u001b[0m\u001b[1;33m.\u001b[0m\u001b[0mvalues\u001b[0m\u001b[1;33m.\u001b[0m\u001b[0mreshape\u001b[0m\u001b[1;33m(\u001b[0m\u001b[1;33m-\u001b[0m\u001b[1;36m1\u001b[0m\u001b[1;33m,\u001b[0m\u001b[1;36m1\u001b[0m\u001b[1;33m)\u001b[0m\u001b[1;33m)\u001b[0m\u001b[1;33m\u001b[0m\u001b[1;33m\u001b[0m\u001b[0m\n",
      "\u001b[1;31mNameError\u001b[0m: name 'data_m50' is not defined"
     ]
    }
   ],
   "source": [
    "#data preprocessing(scaling)\n",
    "from sklearn.preprocessing import StandardScaler\n",
    "scaler = StandardScaler()\n",
    "scaled_data = scaler.fit_transform(data_to_use.reshape(-1, 1))\n",
    "# scaled_weekly_data = scaler.fit_transform(eu_weekly_arr_to_use.reshape(-1, 1))\n",
    "# scaled_monthly_data = scaler.fit_transform(eu_monthly_arr_to_use.reshape(-1, 1))\n",
    "# scaled_yearly_data = scaler.fit_transform(eu_yearly_arr_to_use.reshape(-1, 1))\n",
    "scaled_data_m30 = scaler.fit_transform(data_m30.values.reshape(-1,1))\n",
    "scaled_data_m50 = scaler.fit_transform(data_m50.values.reshape(-1,1))\n",
    "scaled_data_m100 = scaler.fit_transform(data_m100.values.reshape(-1,1))\n",
    "scaled_data_m200 = scaler.fit_transform(data_m200.values.reshape(-1,1))\n",
    "\n",
    "\n",
    "#plotting the data\n",
    "import matplotlib.pyplot as plt\n",
    "plt.figure(figsize=(12,7), frameon=False, facecolor='brown', edgecolor='blue')\n",
    "plt.title(period+' ' + col + ' 1999 to 2017')\n",
    "plt.xlabel(period)\n",
    "plt.ylabel('Scaled Exchage')\n",
    "plt.plot(scaled_data, label=period+' '+col)\n",
    "plt.plot(scaled_data_m30, label='30 Day MA')\n",
    "plt.plot(scaled_data_m50, label='50 Day MA')\n",
    "plt.plot(scaled_data_m200, label='200 Day MA')\n",
    "\n",
    "# plt.plot(scaled_weekly_data, label='Weekly Rate')\n",
    "# plt.plot(scaled_monthly_data, label = 'Monthly Rate')\n",
    "# plt.plot(scaled_yearly_data, label = 'Monthly Rate')\n",
    "plt.legend()\n",
    "plt.show()"
   ]
  },
  {
   "cell_type": "code",
   "execution_count": 43,
   "metadata": {},
   "outputs": [
    {
     "data": {
      "text/plain": [
       "(822, 822)"
      ]
     },
     "execution_count": 43,
     "metadata": {},
     "output_type": "execute_result"
    }
   ],
   "source": [
    "len(scaled_data_m30), len(scaled_data)"
   ]
  },
  {
   "cell_type": "code",
   "execution_count": 44,
   "metadata": {},
   "outputs": [
    {
     "data": {
      "text/plain": [
       "819"
      ]
     },
     "execution_count": 44,
     "metadata": {},
     "output_type": "execute_result"
    }
   ],
   "source": [
    "idx=7\n",
    "# sqrt(mean_squared_error(scaled_data[idx:],data_m30[~(data_m30.isnull())].values)\n",
    "data_m30_ex.reset_index()\n",
    "# data_m30[~(data_m30.key.isnull())]\n",
    "len(data_m30_ex[~data_m30_ex[0].isnull()].values)\n"
   ]
  },
  {
   "cell_type": "code",
   "execution_count": 45,
   "metadata": {},
   "outputs": [
    {
     "name": "stdout",
     "output_type": "stream",
     "text": [
      "<class 'pandas.core.frame.DataFrame'>\n",
      "RangeIndex: 822 entries, 0 to 821\n",
      "Data columns (total 6 columns):\n",
      "Date             822 non-null datetime64[ns]\n",
      "Rate             822 non-null float64\n",
      "USintRate        822 non-null float64\n",
      "EUInterest       822 non-null float64\n",
      "Import Energy    822 non-null float64\n",
      "Export Energy    822 non-null float64\n",
      "dtypes: datetime64[ns](1), float64(5)\n",
      "memory usage: 38.6 KB\n"
     ]
    }
   ],
   "source": [
    "eu.info()"
   ]
  },
  {
   "cell_type": "code",
   "execution_count": 46,
   "metadata": {},
   "outputs": [
    {
     "data": {
      "text/plain": [
       "(1.5610720666722773,\n",
       " 0.804490558123061,\n",
       " 0.8244176073852018,\n",
       " 0.29923853130485656,\n",
       " 1.8502985477613)"
      ]
     },
     "execution_count": 46,
     "metadata": {},
     "output_type": "execute_result"
    }
   ],
   "source": [
    "idx=3\n",
    "rsme_ma30_ex = sqrt(mean_squared_error(scaled_data[idx:],data_m30_ex[~(data_m30_ex[0].isnull())].values))\n",
    "rsme_ma30_us_int = sqrt(mean_squared_error(scaled_data[idx:],data_m30_us_int[~(data_m30_us_int[0].isnull())].values))\n",
    "rsme_ma30_eu_int = sqrt(mean_squared_error(scaled_data[idx:],data_m30_eu_int[~(data_m30_eu_int[0].isnull())].values))\n",
    "rsme_ma30_oim = sqrt(mean_squared_error(scaled_data[idx:],data_m30_oim[~(data_m30_oim[0].isnull())].values))\n",
    "rsme_ma30_oex = sqrt(mean_squared_error(scaled_data[idx:],data_m30_oex[~(data_m30_oex[0].isnull())].values))\n",
    "\n",
    "rsme_ma30_ex, rsme_ma30_us_int, rsme_ma30_eu_int, rsme_ma30_oim, rsme_ma30_oex"
   ]
  },
  {
   "cell_type": "code",
   "execution_count": 51,
   "metadata": {},
   "outputs": [],
   "source": [
    "df_MA_rsme = pd.DataFrame([rsme_ma30_ex, rsme_ma30_us_int, rsme_ma30_eu_int])"
   ]
  },
  {
   "cell_type": "code",
   "execution_count": 52,
   "metadata": {},
   "outputs": [],
   "source": [
    "df_RNN_rsme = pd.DataFrame([0.06021820350069773,0.006940731038477763,\n",
    "                            0.0008876598981210502])"
   ]
  },
  {
   "cell_type": "code",
   "execution_count": 66,
   "metadata": {
    "scrolled": true
   },
   "outputs": [
    {
     "data": {
      "image/png": "[encoded data removed]",
      "text/plain": [
       "<Figure size 432x288 with 1 Axes>"
      ]
     },
     "metadata": {
      "needs_background": "light"
     },
     "output_type": "display_data"
    }
   ],
   "source": [
    "\n",
    "#index = np.arange(5)\n",
    "index_msure=['extra        ','Exchange Rate', 'US Rate', 'EU Rate']\n",
    "bar_width = 0.25\n",
    "fig, ax = plt.subplots()\n",
    "rnn_bar = ax.bar(df_RNN_rsme.index, df_RNN_rsme[0].values, bar_width, label=\"RNN\")\n",
    "\n",
    "\n",
    "ma30_bar = ax.bar(df_MA_rsme.index + bar_width,df_MA_rsme[0].value_counts(), bar_width, label=\"MA30\")\n",
    "#ax.set_xlabel(index_msure)\n",
    "ax.set_ylabel('RSME measurement')\n",
    "ax.set_title('RNN vs MA30')\n",
    "ax.set_xlabel(\"Exchange Rate                US Rate                 EU Rate\")\n",
    "ax.legend()\n",
    "plt.plot(figsize=(20,10))\n",
    "plt.show()\n",
    "\n"
   ]
  },
  {
   "cell_type": "code",
   "execution_count": 57,
   "metadata": {},
   "outputs": [
    {
     "ename": "AttributeError",
     "evalue": "'numpy.ndarray' object has no attribute 'to'",
     "output_type": "error",
     "traceback": [
      "\u001b[1;31m---------------------------------------------------------------------------\u001b[0m",
      "\u001b[1;31mAttributeError\u001b[0m                            Traceback (most recent call last)",
      "\u001b[1;32m<ipython-input-57-14cdba192772>\u001b[0m in \u001b[0;36m<module>\u001b[1;34m\u001b[0m\n\u001b[1;32m----> 1\u001b[1;33m \u001b[0mstr\u001b[0m\u001b[1;33m(\u001b[0m\u001b[0mdf_RNN_rsme\u001b[0m\u001b[1;33m.\u001b[0m\u001b[0mindex\u001b[0m\u001b[1;33m.\u001b[0m\u001b[0mvalues\u001b[0m\u001b[1;33m.\u001b[0m\u001b[0mto\u001b[0m\u001b[1;33m)\u001b[0m\u001b[1;33m\u001b[0m\u001b[1;33m\u001b[0m\u001b[0m\n\u001b[0m",
      "\u001b[1;31mAttributeError\u001b[0m: 'numpy.ndarray' object has no attribute 'to'"
     ]
    }
   ],
   "source": [
    "str(df_RNN_rsme.index.values.to)\n"
   ]
  },
  {
   "cell_type": "code",
   "execution_count": null,
   "metadata": {},
   "outputs": [],
   "source": [
    "df_test_scores = pd.rea('./data/test_scores.csv')"
   ]
  },
  {
   "cell_type": "code",
   "execution_count": null,
   "metadata": {},
   "outputs": [],
   "source": []
  }
 ],
 "metadata": {
  "kernelspec": {
   "display_name": "Python 3",
   "language": "python",
   "name": "python3"
  },
  "language_info": {
   "codemirror_mode": {
    "name": "ipython",
    "version": 3
   },
   "file_extension": ".py",
   "mimetype": "text/x-python",
   "name": "python",
   "nbconvert_exporter": "python",
   "pygments_lexer": "ipython3",
   "version": "3.6.8"
  }
 },
 "nbformat": 4,
 "nbformat_minor": 2
}
