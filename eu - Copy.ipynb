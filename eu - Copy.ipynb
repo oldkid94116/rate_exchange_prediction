{
 "cells": [
  {
   "cell_type": "markdown",
   "metadata": {
    "colab_type": "text",
    "id": "view-in-github"
   },
   "source": [
    "[View in Colaboratory](https://colab.research.google.com/github/brynmwangy/predicting-bitcoin-prices-using-LSTM/blob/master/btc.ipynb)"
   ]
  },
  {
   "cell_type": "code",
   "execution_count": 3,
   "metadata": {
    "colab": {},
    "colab_type": "code",
    "id": "lmPi0F4acbDb"
   },
   "outputs": [],
   "source": [
    "#importing the libraries\n",
    "import tensorflow as tf\n",
    "import numpy as np\n",
    "import pandas as pd\n",
    "import matplotlib.pyplot as plt\n",
    "from sklearn.preprocessing import StandardScaler\n",
    "import io\n",
    "%matplotlib inline\n"
   ]
  },
  {
   "cell_type": "code",
   "execution_count": 4,
   "metadata": {},
   "outputs": [],
   "source": [
    "#we now define the network\n",
    "#Hyperparameters used in the network\n",
    "batch_size = 10 #how many windows of data we are passing at once\n",
    "window_size_en = 7 #how big window_size is (Or How many days do we consider to predict next point in the sequence)\n",
    "hidden_layer = 256 # How many units do we use in LSTM cell\n",
    "clip_margin = 4 #To prevent exploding gradient, we use clipper to clip gradients below -margin or above this margin\n",
    "learning_rate = 0.001 \n",
    "epochs = 120\n",
    "training_test_blocks=5"
   ]
  },
  {
   "cell_type": "code",
   "execution_count": 5,
   "metadata": {
    "colab": {
     "base_uri": "https://localhost:8080/",
     "height": 206
    },
    "colab_type": "code",
    "id": "y0PrtbsMde8D",
    "outputId": "fad7d30a-a192-4b50-cd2c-fb8e5a9ae403"
   },
   "outputs": [],
   "source": [
    "#decoding the files as uploaded will be a dictionary of keys (the file names) and values (the encoded file objects)\n",
    "# eu = pd.read_csv('./data/us_euro_daily_exrate.csv')\n",
    "eu = pd.read_csv('./data/us_euro_daily_exrate.csv', parse_dates=[0])"
   ]
  },
  {
   "cell_type": "code",
   "execution_count": 6,
   "metadata": {},
   "outputs": [],
   "source": [
    "# eu['Value']=eu['Value'].fillna(eu['Value'].mean())"
   ]
  },
  {
   "cell_type": "code",
   "execution_count": 7,
   "metadata": {},
   "outputs": [],
   "source": [
    "# eu[eu['Value'].isnull()].fillna(eu['Value'].mean())\n",
    "\n",
    "\n",
    "# df['nr_item_ave']=df['nr_items].fillna(mean_value)\n",
    "# eu.apply(lambda x: x.fillna(x.mean()),axis=0)\n",
    "# df.apply(lambda x: x.fillna(x.mean()),axis=0)\n"
   ]
  },
  {
   "cell_type": "code",
   "execution_count": 8,
   "metadata": {
    "colab": {
     "base_uri": "https://localhost:8080/",
     "height": 36
    },
    "colab_type": "code",
    "id": "kUSRbjfxmE_e",
    "outputId": "d87196a4-e3e4-4c9b-cfc6-7675153f6da1"
   },
   "outputs": [
    {
     "data": {
      "text/plain": [
       "4934"
      ]
     },
     "execution_count": 8,
     "metadata": {},
     "output_type": "execute_result"
    }
   ],
   "source": [
    "#selecting only the column that we are going to use in the prediction process\n",
    "\n",
    "#data_to_use=btc['Value'].values\n",
    "# data_df = eu[~eu['Value'].isnull()]\n",
    "# eu_rates = data_df['Value'].astype(float)\n",
    "eu_rates = eu['Value'].astype(float)\n",
    "data_to_use=eu_rates.values\n",
    "data_to_use\n",
    "len(data_to_use)"
   ]
  },
  {
   "cell_type": "code",
   "execution_count": 9,
   "metadata": {},
   "outputs": [],
   "source": [
    "# eu_weekly = data_df.groupby([data_df.index, data_df['Date'].dt.strftime('%W'), data_df['Date'].dt.strftime('%Y')])['Value'].mean()\n",
    "eu_time_line = pd.DataFrame(eu.groupby([eu.index, eu['Date'].dt.strftime('%W')])['Value'].mean())"
   ]
  },
  {
   "cell_type": "code",
   "execution_count": 10,
   "metadata": {},
   "outputs": [],
   "source": [
    "eu_time_line = eu_time_line.reset_index('Date')"
   ]
  },
  {
   "cell_type": "code",
   "execution_count": 11,
   "metadata": {},
   "outputs": [],
   "source": [
    "# n = pd.DataFrame(eu_weekly).reset_index('Date')\n",
    "eu_time_line['Year']= eu['Date'].dt.strftime('%Y')"
   ]
  },
  {
   "cell_type": "code",
   "execution_count": 12,
   "metadata": {},
   "outputs": [],
   "source": [
    "eu_time_line = eu_time_line.rename(columns={'Date':'Week'})"
   ]
  },
  {
   "cell_type": "code",
   "execution_count": 13,
   "metadata": {},
   "outputs": [],
   "source": [
    "eu_time_line['Month']= eu['Date'].dt.strftime('%m')\n",
    "eu_time_line = eu_time_line.rename(columns={'Date':'Month'})"
   ]
  },
  {
   "cell_type": "code",
   "execution_count": 14,
   "metadata": {},
   "outputs": [
    {
     "data": {
      "text/html": [
       "<div>\n",
       "<style scoped>\n",
       "    .dataframe tbody tr th:only-of-type {\n",
       "        vertical-align: middle;\n",
       "    }\n",
       "\n",
       "    .dataframe tbody tr th {\n",
       "        vertical-align: top;\n",
       "    }\n",
       "\n",
       "    .dataframe thead th {\n",
       "        text-align: right;\n",
       "    }\n",
       "</style>\n",
       "<table border=\"1\" class=\"dataframe\">\n",
       "  <thead>\n",
       "    <tr style=\"text-align: right;\">\n",
       "      <th></th>\n",
       "      <th>Week</th>\n",
       "      <th>Value</th>\n",
       "      <th>Year</th>\n",
       "      <th>Month</th>\n",
       "    </tr>\n",
       "  </thead>\n",
       "  <tbody>\n",
       "    <tr>\n",
       "      <th>0</th>\n",
       "      <td>01</td>\n",
       "      <td>0.8466</td>\n",
       "      <td>1999</td>\n",
       "      <td>01</td>\n",
       "    </tr>\n",
       "    <tr>\n",
       "      <th>1</th>\n",
       "      <td>01</td>\n",
       "      <td>0.8503</td>\n",
       "      <td>1999</td>\n",
       "      <td>01</td>\n",
       "    </tr>\n",
       "    <tr>\n",
       "      <th>2</th>\n",
       "      <td>01</td>\n",
       "      <td>0.8594</td>\n",
       "      <td>1999</td>\n",
       "      <td>01</td>\n",
       "    </tr>\n",
       "    <tr>\n",
       "      <th>3</th>\n",
       "      <td>01</td>\n",
       "      <td>0.8568</td>\n",
       "      <td>1999</td>\n",
       "      <td>01</td>\n",
       "    </tr>\n",
       "    <tr>\n",
       "      <th>4</th>\n",
       "      <td>01</td>\n",
       "      <td>0.8655</td>\n",
       "      <td>1999</td>\n",
       "      <td>01</td>\n",
       "    </tr>\n",
       "  </tbody>\n",
       "</table>\n",
       "</div>"
      ],
      "text/plain": [
       "  Week   Value  Year Month\n",
       "0   01  0.8466  1999    01\n",
       "1   01  0.8503  1999    01\n",
       "2   01  0.8594  1999    01\n",
       "3   01  0.8568  1999    01\n",
       "4   01  0.8655  1999    01"
      ]
     },
     "execution_count": 14,
     "metadata": {},
     "output_type": "execute_result"
    }
   ],
   "source": [
    "eu_time_line.head()"
   ]
  },
  {
   "cell_type": "code",
   "execution_count": 15,
   "metadata": {},
   "outputs": [],
   "source": [
    "#days_count = eu_time_line.groupby(['Year', 'Week']).count() "
   ]
  },
  {
   "cell_type": "code",
   "execution_count": 16,
   "metadata": {},
   "outputs": [],
   "source": [
    "eu_weekly_arr = (eu_time_line.groupby(['Year', 'Week']).mean()).values"
   ]
  },
  {
   "cell_type": "code",
   "execution_count": 17,
   "metadata": {},
   "outputs": [
    {
     "data": {
      "text/plain": [
       "(997, 1)"
      ]
     },
     "execution_count": 17,
     "metadata": {},
     "output_type": "execute_result"
    }
   ],
   "source": [
    "eu_weekly_arr.shape"
   ]
  },
  {
   "cell_type": "code",
   "execution_count": 18,
   "metadata": {},
   "outputs": [],
   "source": [
    "eu_weekly_arr_to_use = np.repeat(eu_weekly_arr,5)"
   ]
  },
  {
   "cell_type": "code",
   "execution_count": 19,
   "metadata": {},
   "outputs": [
    {
     "data": {
      "text/plain": [
       "4985"
      ]
     },
     "execution_count": 19,
     "metadata": {},
     "output_type": "execute_result"
    }
   ],
   "source": [
    "len(eu_weekly_arr_to_use)"
   ]
  },
  {
   "cell_type": "code",
   "execution_count": 20,
   "metadata": {},
   "outputs": [
    {
     "data": {
      "text/plain": [
       "(4985,)"
      ]
     },
     "execution_count": 20,
     "metadata": {},
     "output_type": "execute_result"
    }
   ],
   "source": [
    "eu_weekly_arr_to_use.shape"
   ]
  },
  {
   "cell_type": "code",
   "execution_count": 21,
   "metadata": {},
   "outputs": [
    {
     "name": "stdout",
     "output_type": "stream",
     "text": [
      "4985\n"
     ]
    }
   ],
   "source": [
    "print(len(eu_weekly_arr_to_use))"
   ]
  },
  {
   "cell_type": "code",
   "execution_count": 22,
   "metadata": {},
   "outputs": [],
   "source": [
    "eu_monthly_arr = (eu_time_line.groupby(['Year', 'Month']).mean()).values"
   ]
  },
  {
   "cell_type": "code",
   "execution_count": 23,
   "metadata": {},
   "outputs": [
    {
     "data": {
      "text/plain": [
       "(228, 1)"
      ]
     },
     "execution_count": 23,
     "metadata": {},
     "output_type": "execute_result"
    }
   ],
   "source": [
    "eu_monthly_arr.shape"
   ]
  },
  {
   "cell_type": "code",
   "execution_count": 24,
   "metadata": {},
   "outputs": [],
   "source": [
    "eu_monthly_arr_to_use = np.repeat(eu_monthly_arr,22)"
   ]
  },
  {
   "cell_type": "code",
   "execution_count": 25,
   "metadata": {},
   "outputs": [],
   "source": [
    "eu_yearly_arr = (eu_time_line.groupby(['Year']).mean()).values"
   ]
  },
  {
   "cell_type": "code",
   "execution_count": 26,
   "metadata": {},
   "outputs": [],
   "source": [
    "eu_yearly_arr_to_use = np.repeat(eu_yearly_arr, 260)"
   ]
  },
  {
   "cell_type": "code",
   "execution_count": 27,
   "metadata": {},
   "outputs": [
    {
     "data": {
      "image/png": "[encoded data removed]",
      "text/plain": [
       "<Figure size 864x504 with 1 Axes>"
      ]
     },
     "metadata": {},
     "output_type": "display_data"
    }
   ],
   "source": [
    "#data preprocessing(scaling)\n",
    "from sklearn.preprocessing import StandardScaler\n",
    "scaler = StandardScaler()\n",
    "scaled_data = scaler.fit_transform(data_to_use.reshape(-1, 1))\n",
    "scaled_weekly_data = scaler.fit_transform(eu_weekly_arr_to_use.reshape(-1, 1))\n",
    "scaled_monthly_data = scaler.fit_transform(eu_monthly_arr_to_use.reshape(-1, 1))\n",
    "scaled_yearly_data = scaler.fit_transform(eu_yearly_arr_to_use.reshape(-1, 1))\n",
    "\n",
    "\n",
    "#plotting the data\n",
    "import matplotlib.pyplot as plt\n",
    "plt.figure(figsize=(12,7), frameon=False, facecolor='brown', edgecolor='blue')\n",
    "plt.title('Daily Exchange rate 1999 to 2017')\n",
    "plt.xlabel('Days')\n",
    "plt.ylabel('Scaled Exchage')\n",
    "plt.plot(scaled_data, label='Daily Rate')\n",
    "plt.plot(scaled_weekly_data, label='Weekly Rate')\n",
    "plt.plot(scaled_monthly_data, label = 'Monthly Rate')\n",
    "plt.plot(scaled_yearly_data, label = 'Monthly Rate')\n",
    "plt.legend()\n",
    "plt.show()"
   ]
  },
  {
   "cell_type": "code",
   "execution_count": 28,
   "metadata": {},
   "outputs": [
    {
     "data": {
      "text/plain": [
       "4754"
      ]
     },
     "execution_count": 28,
     "metadata": {},
     "output_type": "execute_result"
    }
   ],
   "source": [
    "data_df = eu[~eu['Value'].isnull()]\n",
    "eu_rates = data_df['Value'].astype(float)\n",
    "# eu_rates = eu['Value'].astype(float)\n",
    "data_to_use=eu_rates.values\n",
    "data_to_use\n",
    "scaled_data = scaler.fit_transform(data_to_use.reshape(-1, 1))\n",
    "len(data_to_use)\n"
   ]
  },
  {
   "cell_type": "code",
   "execution_count": 29,
   "metadata": {},
   "outputs": [],
   "source": [
    "# eu['Value']=eu['Value'].fillna(eu['Value'].mean())\n",
    "# eu_rates = eu['Value'].astype(float)\n",
    "# data_to_use=eu_rates.values\n",
    "# data_to_use"
   ]
  },
  {
   "cell_type": "code",
   "execution_count": 30,
   "metadata": {},
   "outputs": [],
   "source": [
    "# eu[eu['Value'].isnull()]"
   ]
  },
  {
   "cell_type": "code",
   "execution_count": 31,
   "metadata": {
    "colab": {
     "base_uri": "https://localhost:8080/",
     "height": 92
    },
    "colab_type": "code",
    "id": "PM3y5iPb1HOn",
    "outputId": "f6dc911c-4091-48af-cff2-d9b153f32d7f"
   },
   "outputs": [
    {
     "name": "stdout",
     "output_type": "stream",
     "text": [
      "X_train size: (3798, 7, 1)\n",
      "y_train size: (3798, 1)\n",
      "X_test size: (949, 7, 1)\n",
      "y_test size: (949, 1)\n"
     ]
    }
   ],
   "source": [
    "# This function is used to create Features and Labels datasets. By windowing the data.\n",
    "#Input: data - dataset used in the project\n",
    "#window_size - how many data points we are going to use to predict the next datapoint in the sequence \n",
    "#[Example: if window_size = 1 we are going to use only the previous day to predict todays stock prices]\n",
    "#Outputs: X - features splitted into windows of datapoints (if window_size = 1, X = [len(data)-1, 1])\n",
    "#y - 'labels', actually this is the next number in the sequence, this number we are trying to predict\n",
    "\n",
    "def window_data(data, window_size):\n",
    "    X = []\n",
    "    y = []\n",
    "    \n",
    "    i = 0\n",
    "    while (i + window_size) <= len(data) - 1:\n",
    "        X.append(data[i:i+window_size])\n",
    "        y.append(data[i+window_size])\n",
    "        \n",
    "        i += 1\n",
    "    assert len(X) ==  len(y)\n",
    "    return X, y\n",
    "#windowing the data with window_data function\n",
    "X, y = window_data(scaled_data, window_size_en)\n",
    "\n",
    "\n",
    "#we now split the data into training and test set\n",
    "import numpy as np\n",
    "test_portion = len(X) // training_test_blocks\n",
    "train_i = len(X) - test_portion\n",
    "\n",
    "# X_train  = np.array(X[:1018])\n",
    "# y_train = np.array(y[:1018])\n",
    "\n",
    "# X_test = np.array(X[1018:])\n",
    "# y_test = np.array(y[1018:])\n",
    "\n",
    "X_train  = np.array(X[:train_i])\n",
    "y_train = np.array(y[:train_i])\n",
    "\n",
    "X_test = np.array(X[train_i:])\n",
    "y_test = np.array(y[train_i:])\n",
    "\n",
    "print(\"X_train size: {}\".format(X_train.shape))\n",
    "print(\"y_train size: {}\".format(y_train.shape))\n",
    "print(\"X_test size: {}\".format(X_test.shape))\n",
    "print(\"y_test size: {}\".format(y_test.shape))"
   ]
  },
  {
   "cell_type": "code",
   "execution_count": 32,
   "metadata": {
    "colab": {
     "base_uri": "https://localhost:8080/",
     "height": 149
    },
    "colab_type": "code",
    "id": "0h75jdrjToBv",
    "outputId": "3e608ca7-b3da-45aa-fdbe-8857e3402c28"
   },
   "outputs": [
    {
     "name": "stdout",
     "output_type": "stream",
     "text": [
      "WARNING:tensorflow:From C:\\Users\\OrsonKong\\Anaconda3\\lib\\site-packages\\tensorflow\\python\\framework\\op_def_library.py:263: colocate_with (from tensorflow.python.framework.ops) is deprecated and will be removed in a future version.\n",
      "Instructions for updating:\n",
      "Colocations handled automatically by placer.\n"
     ]
    },
    {
     "data": {
      "text/plain": [
       "[<tf.Tensor 'add_63:0' shape=(1, 1) dtype=float32>,\n",
       " <tf.Tensor 'add_127:0' shape=(1, 1) dtype=float32>,\n",
       " <tf.Tensor 'add_191:0' shape=(1, 1) dtype=float32>,\n",
       " <tf.Tensor 'add_255:0' shape=(1, 1) dtype=float32>,\n",
       " <tf.Tensor 'add_319:0' shape=(1, 1) dtype=float32>,\n",
       " <tf.Tensor 'add_383:0' shape=(1, 1) dtype=float32>,\n",
       " <tf.Tensor 'add_447:0' shape=(1, 1) dtype=float32>,\n",
       " <tf.Tensor 'add_511:0' shape=(1, 1) dtype=float32>,\n",
       " <tf.Tensor 'add_575:0' shape=(1, 1) dtype=float32>,\n",
       " <tf.Tensor 'add_639:0' shape=(1, 1) dtype=float32>]"
      ]
     },
     "execution_count": 32,
     "metadata": {},
     "output_type": "execute_result"
    }
   ],
   "source": [
    "#we define the placeholders\n",
    "inputs = tf.placeholder(tf.float32, [batch_size, window_size_en, 1])\n",
    "targets = tf.placeholder(tf.float32, [batch_size, 1])\n",
    "\n",
    "\n",
    "\n",
    "#weights and implementation of LSTM cell\n",
    "# LSTM weights\n",
    "\n",
    "#Weights for the input gate\n",
    "weights_input_gate = tf.Variable(tf.truncated_normal([1, hidden_layer], stddev=0.05))\n",
    "weights_input_hidden = tf.Variable(tf.truncated_normal([hidden_layer, hidden_layer], stddev=0.05))\n",
    "bias_input = tf.Variable(tf.zeros([hidden_layer]))\n",
    "\n",
    "#weights for the forgot gate\n",
    "weights_forget_gate = tf.Variable(tf.truncated_normal([1, hidden_layer], stddev=0.05))\n",
    "weights_forget_hidden = tf.Variable(tf.truncated_normal([hidden_layer, hidden_layer], stddev=0.05))\n",
    "bias_forget = tf.Variable(tf.zeros([hidden_layer]))\n",
    "\n",
    "#weights for the output gate\n",
    "weights_output_gate = tf.Variable(tf.truncated_normal([1, hidden_layer], stddev=0.05))\n",
    "weights_output_hidden = tf.Variable(tf.truncated_normal([hidden_layer, hidden_layer], stddev=0.05))\n",
    "bias_output = tf.Variable(tf.zeros([hidden_layer]))\n",
    "\n",
    "#weights for the memory cell\n",
    "weights_memory_cell = tf.Variable(tf.truncated_normal([1, hidden_layer], stddev=0.05))\n",
    "weights_memory_cell_hidden = tf.Variable(tf.truncated_normal([hidden_layer, hidden_layer], stddev=0.05))\n",
    "bias_memory_cell = tf.Variable(tf.zeros([hidden_layer]))\n",
    "\n",
    "#Output layer weigts\n",
    "weights_output = tf.Variable(tf.truncated_normal([hidden_layer, 1], stddev=0.05))\n",
    "bias_output_layer = tf.Variable(tf.zeros([1]))\n",
    "\n",
    "\n",
    "#function to compute the gate states\n",
    "def LSTM_cell(input, output, state):\n",
    "    \n",
    "    input_gate = tf.sigmoid(tf.matmul(input, weights_input_gate) + tf.matmul(output, weights_input_hidden) + bias_input)\n",
    "    \n",
    "    forget_gate = tf.sigmoid(tf.matmul(input, weights_forget_gate) + tf.matmul(output, weights_forget_hidden) + bias_forget)\n",
    "    \n",
    "    output_gate = tf.sigmoid(tf.matmul(input, weights_output_gate) + tf.matmul(output, weights_output_hidden) + bias_output)\n",
    "    \n",
    "    memory_cell = tf.tanh(tf.matmul(input, weights_memory_cell) + tf.matmul(output, weights_memory_cell_hidden) + bias_memory_cell)\n",
    "    \n",
    "    state = state * forget_gate + input_gate * memory_cell\n",
    "    \n",
    "    output = output_gate * tf.tanh(state)\n",
    "    return state, output\n",
    "  \n",
    "  \n",
    " #we now define loop for the network\n",
    "outputs = []\n",
    "for i in range(batch_size): #Iterates through every window in the batch\n",
    "  \n",
    "    #for each batch I am creating batch_state as all zeros and output for that window which is all zeros at the beginning as well.\n",
    "    batch_state = np.zeros([1, hidden_layer], dtype=np.float32) \n",
    "    batch_output = np.zeros([1, hidden_layer], dtype=np.float32)\n",
    "    \n",
    "    #for each point in the window we are feeding that into LSTM to get next output\n",
    "    for ii in range(window_size_en):\n",
    "        batch_state, batch_output = LSTM_cell(tf.reshape(inputs[i][ii], (-1, 1)), batch_state, batch_output)\n",
    "        \n",
    "    #last output is conisdered and used to get a prediction\n",
    "    outputs.append(tf.matmul(batch_output, weights_output) + bias_output_layer)\n",
    "outputs "
   ]
  },
  {
   "cell_type": "code",
   "execution_count": 35,
   "metadata": {
    "colab": {
     "base_uri": "https://localhost:8080/",
     "height": 149
    },
    "colab_type": "code",
    "id": "TRI3eUQzW6_S",
    "outputId": "448ec4e9-47d2-45ff-bcfc-751e452ddf8d"
   },
   "outputs": [
    {
     "name": "stdout",
     "output_type": "stream",
     "text": [
      "Epoch 0/120  Current loss: 0.05700557306408882\n",
      "Epoch 10/120  Current loss: 0.17364823818206787\n",
      "Epoch 20/120  Current loss: 0.15446534752845764\n",
      "Epoch 30/120  Current loss: 0.07421278208494186\n",
      "Epoch 40/120  Current loss: 0.06830056756734848\n",
      "Epoch 50/120  Current loss: 0.0627192035317421\n",
      "Epoch 60/120  Current loss: 0.05969097837805748\n",
      "Epoch 70/120  Current loss: 0.055802419781684875\n",
      "Epoch 80/120  Current loss: 0.05695870891213417\n",
      "Epoch 90/120  Current loss: 0.05275976285338402\n",
      "Epoch 100/120  Current loss: 0.06038258224725723\n",
      "Epoch 110/120  Current loss: 0.06597283482551575\n",
      "Epoch 119/120  Current loss: 0.055726900696754456\n"
     ]
    }
   ],
   "source": [
    "#we define the loss\n",
    "losses = []\n",
    "\n",
    "for i in range(len(outputs)):\n",
    "    losses.append(tf.losses.mean_squared_error(tf.reshape(targets[i], (-1, 1)), outputs[i]))\n",
    "    \n",
    "loss = tf.reduce_mean(losses)\n",
    "\n",
    "#we define optimizer with gradient clipping\n",
    "gradients = tf.gradients(loss, tf.trainable_variables())\n",
    "clipped, _ = tf.clip_by_global_norm(gradients, clip_margin)\n",
    "optimizer = tf.train.AdamOptimizer(learning_rate)\n",
    "trained_optimizer = optimizer.apply_gradients(zip(gradients, tf.trainable_variables()))\n",
    "\n",
    "#we now train the network\n",
    "session = tf.Session()\n",
    "session.run(tf.global_variables_initializer())\n",
    "for i in range(epochs):\n",
    "    traind_scores = []\n",
    "    ii = 0\n",
    "    epoch_loss = []\n",
    "    while(ii + batch_size) <= len(X_train):\n",
    "        X_batch = X_train[ii:ii+batch_size]\n",
    "        y_batch = y_train[ii:ii+batch_size]\n",
    "        \n",
    "#        o, c, _ = session.run([outputs, loss, trained_optimizer], feed_dict={inputs:X_batch, targets:y_batch})\n",
    "        o, c, _ = session.run([outputs, loss, accuracy, trained_optimizer], feed_dict={inputs:X_batch, targets:y_batch})\n",
    "        \n",
    "        epoch_loss.append(c)\n",
    "        traind_scores.append(o)\n",
    "        ii += batch_size\n",
    "    if ((i % 10) == 0 or (i==(epochs-1))):\n",
    "        print('Epoch {}/{}'.format(i, epochs), ' Current loss: {}'.format(np.mean(epoch_loss)))\n",
    "        "
   ]
  },
  {
   "cell_type": "code",
   "execution_count": 32,
   "metadata": {
    "colab": {},
    "colab_type": "code",
    "id": "CNVKwdSxqvgY"
   },
   "outputs": [],
   "source": [
    "sup =[]\n",
    "for i in range(len(traind_scores)):\n",
    "    for j in range(len(traind_scores[i])):\n",
    "        sup.append(traind_scores[i][j][0])"
   ]
  },
  {
   "cell_type": "code",
   "execution_count": 33,
   "metadata": {},
   "outputs": [
    {
     "data": {
      "text/plain": [
       "((949, 7, 1), 379)"
      ]
     },
     "execution_count": 33,
     "metadata": {},
     "output_type": "execute_result"
    }
   ],
   "source": [
    "X_test.shape, len(traind_scores)"
   ]
  },
  {
   "cell_type": "code",
   "execution_count": 34,
   "metadata": {
    "colab": {},
    "colab_type": "code",
    "id": "xKLtQbXYqyIF"
   },
   "outputs": [],
   "source": [
    "tests = []\n",
    "i = 0\n",
    "while i+batch_size <= len(X_test): \n",
    "  \n",
    "    o = session.run([outputs],feed_dict={inputs:X_test[i:i+batch_size]})\n",
    "    i += batch_size\n",
    "    tests.append(o)"
   ]
  },
  {
   "cell_type": "code",
   "execution_count": 35,
   "metadata": {
    "colab": {},
    "colab_type": "code",
    "id": "kCypZOwVrIL1"
   },
   "outputs": [],
   "source": [
    "tests_new = []\n",
    "for i in range(len(tests)):\n",
    "    for j in range(len(tests[i][0])):\n",
    "        tests_new.append(tests[i][0][j])        "
   ]
  },
  {
   "cell_type": "code",
   "execution_count": 36,
   "metadata": {},
   "outputs": [
    {
     "data": {
      "text/plain": [
       "(940, 4747)"
      ]
     },
     "execution_count": 36,
     "metadata": {},
     "output_type": "execute_result"
    }
   ],
   "source": [
    "len(tests_new), len(X)"
   ]
  },
  {
   "cell_type": "code",
   "execution_count": 37,
   "metadata": {},
   "outputs": [],
   "source": [
    "#for i, e in enumerate(tests_new): print(i, \" -> \",e)"
   ]
  },
  {
   "cell_type": "code",
   "execution_count": 38,
   "metadata": {},
   "outputs": [
    {
     "data": {
      "text/plain": [
       "(3798, 940)"
      ]
     },
     "execution_count": 38,
     "metadata": {},
     "output_type": "execute_result"
    }
   ],
   "source": [
    "train_i, len(tests_new)"
   ]
  },
  {
   "cell_type": "code",
   "execution_count": 39,
   "metadata": {},
   "outputs": [],
   "source": [
    "test_results = []\n",
    "for e in range(train_i) : test_results.append(None)\n",
    "\n",
    "# rest from train_i to the end of list\n",
    "for i in range(len(tests_new)):\n",
    "#    print(\"i-> :\",i)\n",
    "    test_results.append(tests_new[i] )\n"
   ]
  },
  {
   "cell_type": "code",
   "execution_count": 40,
   "metadata": {
    "colab": {},
    "colab_type": "code",
    "id": "NnLnvsEzeGGY"
   },
   "outputs": [],
   "source": [
    "# test_results = []\n",
    "# g_i = train_i + 1\n",
    "# for i in range(len(X)):\n",
    "#     if i >= g_i:\n",
    "#         print(\"i i-gi -> \",i,\":\" , i-g_i, \":\",tests_new[i-g_i])\n",
    "#         test_results.append(tests_new[i-g_i])\n",
    "#     else:\n",
    "#         test_results.append(None)\n"
   ]
  },
  {
   "cell_type": "code",
   "execution_count": 41,
   "metadata": {
    "colab": {
     "base_uri": "https://localhost:8080/",
     "height": 457
    },
    "colab_type": "code",
    "id": "qnQJYH-HqsX4",
    "outputId": "585def6a-1789-4ab4-adf4-8a0146b8e2b8"
   },
   "outputs": [
    {
     "data": {
      "image/png": "[encoded data removed]",
      "text/plain": [
       "<Figure size 1152x504 with 1 Axes>"
      ]
     },
     "metadata": {
      "needs_background": "light"
     },
     "output_type": "display_data"
    }
   ],
   "source": [
    "#we now plot predictions from the network\n",
    "plt.figure(figsize=(16, 7))\n",
    "plt.title('Exchange rate')\n",
    "plt.xlabel('Days')\n",
    "plt.ylabel('EU/USA Exchange rate')\n",
    "plt.plot(scaled_data, label='Original data')\n",
    "plt.plot(sup, label='Training data')\n",
    "plt.plot(test_results, label='Testing data')\n",
    "plt.legend()\n",
    "plt.show()\n"
   ]
  },
  {
   "cell_type": "code",
   "execution_count": null,
   "metadata": {
    "colab": {
     "base_uri": "https://localhost:8080/",
     "height": 457
    },
    "colab_type": "code",
    "id": "RU7Z978_w1lP",
    "outputId": "77c919a3-0fed-403e-e6fb-39d72459f95c"
   },
   "outputs": [],
   "source": []
  },
  {
   "cell_type": "code",
   "execution_count": 46,
   "metadata": {},
   "outputs": [
    {
     "data": {
      "text/plain": [
       "[array([0.00961467]),\n",
       " array([0.04149509]),\n",
       " array([0.04149509]),\n",
       " array([0.01492808]),\n",
       " array([-0.06401389]),\n",
       " array([-0.05035086]),\n",
       " array([-0.03289254]),\n",
       " array([-0.02226574]),\n",
       " array([-0.04351934]),\n",
       " array([-0.05035086])]"
      ]
     },
     "execution_count": 46,
     "metadata": {},
     "output_type": "execute_result"
    }
   ],
   "source": [
    "y[len(y)-10:]"
   ]
  },
  {
   "cell_type": "code",
   "execution_count": 47,
   "metadata": {},
   "outputs": [],
   "source": [
    "y_new_inverse = scaler.inverse_transform(y[len(y)-1])"
   ]
  },
  {
   "cell_type": "code",
   "execution_count": 48,
   "metadata": {},
   "outputs": [
    {
     "data": {
      "text/plain": [
       "array([0.8396])"
      ]
     },
     "execution_count": 48,
     "metadata": {},
     "output_type": "execute_result"
    }
   ],
   "source": [
    "y_new_inverse"
   ]
  },
  {
   "cell_type": "code",
   "execution_count": 49,
   "metadata": {},
   "outputs": [
    {
     "data": {
      "text/plain": [
       "array([-0.10816842], dtype=float32)"
      ]
     },
     "execution_count": 49,
     "metadata": {},
     "output_type": "execute_result"
    }
   ],
   "source": [
    "tests_new[len(tests_new)-1][0]"
   ]
  },
  {
   "cell_type": "code",
   "execution_count": 50,
   "metadata": {},
   "outputs": [],
   "source": [
    "test_new_inverse = scaler.inverse_transform(tests_new[len(tests_new)-1])"
   ]
  },
  {
   "cell_type": "code",
   "execution_count": 51,
   "metadata": {},
   "outputs": [
    {
     "data": {
      "text/plain": [
       "array([[0.831983]], dtype=float32)"
      ]
     },
     "execution_count": 51,
     "metadata": {},
     "output_type": "execute_result"
    }
   ],
   "source": [
    "test_new_inverse"
   ]
  },
  {
   "cell_type": "code",
   "execution_count": null,
   "metadata": {},
   "outputs": [],
   "source": []
  },
  {
   "cell_type": "code",
   "execution_count": null,
   "metadata": {},
   "outputs": [],
   "source": []
  }
 ],
 "metadata": {
  "colab": {
   "name": "btc.ipynb",
   "provenance": [],
   "version": "0.3.2"
  },
  "kernelspec": {
   "display_name": "Python 3",
   "language": "python",
   "name": "python3"
  },
  "language_info": {
   "codemirror_mode": {
    "name": "ipython",
    "version": 3
   },
   "file_extension": ".py",
   "mimetype": "text/x-python",
   "name": "python",
   "nbconvert_exporter": "python",
   "pygments_lexer": "ipython3",
   "version": "3.6.8"
  }
 },
 "nbformat": 4,
 "nbformat_minor": 1
}
