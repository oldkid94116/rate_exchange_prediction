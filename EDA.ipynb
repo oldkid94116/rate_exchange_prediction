{
 "cells": [
  {
   "cell_type": "markdown",
   "metadata": {
    "colab_type": "text",
    "id": "view-in-github"
   },
   "source": [
    "[View in Colaboratory](https://colab.research.google.com/github/brynmwangy/predicting-bitcoin-prices-using-LSTM/blob/master/btc.ipynb)"
   ]
  },
  {
   "cell_type": "code",
   "execution_count": 1,
   "metadata": {
    "colab": {},
    "colab_type": "code",
    "id": "lmPi0F4acbDb"
   },
   "outputs": [],
   "source": [
    "#importing the libraries\n",
    "import tensorflow as tf\n",
    "import numpy as np\n",
    "import pandas as pd\n",
    "import matplotlib.pyplot as plt\n",
    "from sklearn.preprocessing import StandardScaler\n",
    "import io\n",
    "%matplotlib inline\n"
   ]
  },
  {
   "cell_type": "code",
   "execution_count": 2,
   "metadata": {},
   "outputs": [],
   "source": [
    "#we now define the network\n",
    "#Hyperparameters used in the network\n",
    "batch_size = 10 #how many windows of data we are passing at once\n",
    "window_size_en = 1 #how big window_size is (Or How many days do we consider to predict next point in the sequence)\n",
    "hidden_layer = 256 # How many units do we use in LSTM cell\n",
    "clip_margin = 4 #To prevent exploding gradient, we use clipper to clip gradients below -margin or above this margin\n",
    "learning_rate = 0.001 \n",
    "epochs = 10\n",
    "training_test_blocks=5\n",
    "plot_period='Week'"
   ]
  },
  {
   "cell_type": "code",
   "execution_count": 3,
   "metadata": {
    "colab": {
     "base_uri": "https://localhost:8080/",
     "height": 206
    },
    "colab_type": "code",
    "id": "y0PrtbsMde8D",
    "outputId": "fad7d30a-a192-4b50-cd2c-fb8e5a9ae403"
   },
   "outputs": [],
   "source": [
    "#decoding the files as uploaded will be a dictionary of keys (the file names) and values (the encoded file objects)\n",
    "# eu = pd.read_csv('./us_euro_daily_exrate.csv')\n",
    "eu = pd.read_csv('./us_euro_daily_exrate.csv', parse_dates=[0])"
   ]
  },
  {
   "cell_type": "code",
   "execution_count": 75,
   "metadata": {
    "colab": {
     "base_uri": "https://localhost:8080/",
     "height": 36
    },
    "colab_type": "code",
    "id": "kUSRbjfxmE_e",
    "outputId": "d87196a4-e3e4-4c9b-cfc6-7675153f6da1"
   },
   "outputs": [
    {
     "data": {
      "text/plain": [
       "4934"
      ]
     },
     "execution_count": 75,
     "metadata": {},
     "output_type": "execute_result"
    }
   ],
   "source": [
    "#selecting only the column that we are going to use in the prediction process\n",
    "\n",
    "#data_to_use=btc['Value'].values\n",
    "# eu = eu[~eu['Value'].isnull()]\n",
    "# forward fill value\n",
    "# data_df = eu[~eu['Value'].isnull()]\n",
    "\n",
    "eu =  eu.fillna(method='ffill')\n",
    "data_df = eu\n",
    "eu_rates = data_df['Value'].astype(float)\n",
    "# eu_rates = eu['Value'].astype(float)\n",
    "data_to_use=eu_rates.values\n",
    "data_to_use\n",
    "len(data_to_use)"
   ]
  },
  {
   "cell_type": "code",
   "execution_count": 76,
   "metadata": {},
   "outputs": [],
   "source": [
    "# eu_weekly = data_df.groupby([data_df.index, data_df['Date'].dt.strftime('%W'), data_df['Date'].dt.strftime('%Y')])['Value'].mean()\n",
    "eu_time_line = pd.DataFrame(eu.groupby([eu.index, eu['Date'].dt.strftime('%W')])['Value'].mean())\n",
    "eu_time_line = eu_time_line.reset_index('Date')\n",
    "eu_time_line['Year']= eu['Date'].dt.strftime('%Y')\n",
    "eu_time_line = eu_time_line.rename(columns={'Date':'Week'})\n",
    "eu_time_line['Month']= eu['Date'].dt.strftime('%m')\n",
    "eu_time_line = eu_time_line.rename(columns={'Date':'Month'})\n"
   ]
  },
  {
   "cell_type": "code",
   "execution_count": null,
   "metadata": {},
   "outputs": [],
   "source": []
  },
  {
   "cell_type": "code",
   "execution_count": 77,
   "metadata": {},
   "outputs": [],
   "source": [
    "eu_day_value_line = eu_time_line[['Year', 'Week', 'Value']]\n",
    "eu_day_value_line['Dayofweek'] = eu['Date'].dt.dayofweek\n"
   ]
  },
  {
   "cell_type": "code",
   "execution_count": 78,
   "metadata": {},
   "outputs": [],
   "source": [
    "gb=eu_day_value_line.groupby(['Year', 'Week', 'Dayofweek'])['Value'].max()"
   ]
  },
  {
   "cell_type": "code",
   "execution_count": 79,
   "metadata": {},
   "outputs": [],
   "source": [
    "# eu_dv_df = pd.DataFrame(gb).reset_index()\n"
   ]
  },
  {
   "cell_type": "code",
   "execution_count": 137,
   "metadata": {},
   "outputs": [],
   "source": [
    "#mf_df = eu_day_value_line[(eu_day_value_line['Dayofweek'] == 0) | (eu_day_value_line['Dayofweek'] == 4)]\n",
    "mon_df = eu_day_value_line[(eu_day_value_line['Dayofweek'] == 0)]\n",
    "tue_df = eu_day_value_line[(eu_day_value_line['Dayofweek'] == 1)]\n",
    "wed_df = eu_day_value_line[(eu_day_value_line['Dayofweek'] == 2)]\n",
    "thu_df = eu_day_value_line[(eu_day_value_line['Dayofweek'] == 3)]\n",
    "fri_df = eu_day_value_line[(eu_day_value_line['Dayofweek'] == 4)]"
   ]
  },
  {
   "cell_type": "code",
   "execution_count": 138,
   "metadata": {},
   "outputs": [
    {
     "data": {
      "text/plain": [
       "((987, 4), (986, 4), (987, 4), (987, 4))"
      ]
     },
     "execution_count": 138,
     "metadata": {},
     "output_type": "execute_result"
    }
   ],
   "source": [
    "fri_df.shape, mon_df.shape, tue_df.shape, wed_df.shape"
   ]
  },
  {
   "cell_type": "code",
   "execution_count": 139,
   "metadata": {},
   "outputs": [],
   "source": [
    "# #fri_df.drop()\n",
    "# fri_df = fri_df.drop(fri_df.index[fri_df.shape[0]-1]) \n",
    "# tue_df = tue_df.drop(tue_df.index[tue_df.shape[0]-1])\n",
    "# wed_df = wed_df.drop(wed_df.index[wed_df.shape[0]-1])\n",
    "# thu_df = thu_df.drop(thu_df.index[thu_df.shape[0]-1])\n",
    "\n",
    "fri_df = fri_df.drop(fri_df.index[0]) \n",
    "tue_df = tue_df.drop(tue_df.index[0])\n",
    "wed_df = wed_df.drop(wed_df.index[0])\n",
    "thu_df = thu_df.drop(thu_df.index[0])\n",
    "fri_j_df = fri_df.drop(fri_df.index[fri_df.shape[0]-1]) "
   ]
  },
  {
   "cell_type": "code",
   "execution_count": 189,
   "metadata": {},
   "outputs": [
    {
     "data": {
      "text/plain": [
       "pandas.core.series.Series"
      ]
     },
     "execution_count": 189,
     "metadata": {},
     "output_type": "execute_result"
    }
   ],
   "source": [
    "mon_c_df = (mon_df['Value'] - fri_df['Value'].values) / mon_df['Value']*100\n",
    "tue_c_df = (tue_df['Value'] - mon_df['Value'].values) / tue_df['Value']*100\n",
    "wed_c_df = (wed_df['Value'] - tue_df['Value'].values) / wed_df['Value']*100\n",
    "thu_c_df = (thu_df['Value'] - wed_df['Value'].values) / thu_df['Value']*100\n",
    "fri_c_df = (fri_df['Value'] - thu_df['Value'].values) / fri_df['Value']*100\n",
    "# fri_c_df = (fri_df['Value'] - mon_df['Value'].values) / fri_df['Value']*100\n",
    "\n",
    "type(m_f_df)"
   ]
  },
  {
   "cell_type": "code",
   "execution_count": 219,
   "metadata": {},
   "outputs": [
    {
     "data": {
      "text/plain": [
       "Text(0.5, 1.0, 'Friday')"
      ]
     },
     "execution_count": 219,
     "metadata": {},
     "output_type": "execute_result"
    },
    {
     "data": {
      "image/png": "[encoded data removed]",
      "text/plain": [
       "<Figure size 432x288 with 6 Axes>"
      ]
     },
     "metadata": {
      "needs_background": "light"
     },
     "output_type": "display_data"
    }
   ],
   "source": [
    "# fig, axes = plt.subplots(3, 2, sharey=True)\n",
    "# axes[0,0].hist(mon_c_df, bins=20)\n",
    "# axes[0,0].set_title(\"Monday\")\n",
    "# axes[0,1].hist(tue_c_df, bins=20)\n",
    "# axes[0,1].set_title(\"Tuesday\")\n",
    "# axes[1,0].hist(wed_c_df, bins=20)\n",
    "# axes[1,0].set_title(\"Wednesday\")\n",
    "# axes[1,1].hist(thu_c_df, bins=20)\n",
    "# axes[1,1].set_title(\"Thursday\")\n",
    "# axes[2,0].hist(fri_c_df, bins=20)\n",
    "# axes[2,0].set_title(\"Friday\")\n",
    "\n",
    "fig, axes = plt.subplots(2, 3, sharey=True)\n",
    "axes[0,0].hist(mon_c_df, bins=20)\n",
    "axes[0,0].set_title(\"Monday\")\n",
    "axes[1,0].hist(tue_c_df, bins=20)\n",
    "axes[1,0].set_title(\"Tuesday\")\n",
    "axes[0,1].hist(wed_c_df, bins=20)\n",
    "axes[0,1].set_title(\"Wednesday\")\n",
    "axes[1,1].hist(thu_c_df, bins=20)\n",
    "axes[1,1].set_title(\"Thursday\")\n",
    "axes[0,2].hist(fri_c_df, bins=20)\n",
    "axes[0,2].set_title(\"Friday\")\n"
   ]
  },
  {
   "cell_type": "code",
   "execution_count": 220,
   "metadata": {},
   "outputs": [
    {
     "data": {
      "text/plain": [
       "[0.13164728075261498,\n",
       " 0.13175284186226702,\n",
       " 0.13182412844921118,\n",
       " 0.13185030528893385,\n",
       " 0.13152878289051287]"
      ]
     },
     "execution_count": 220,
     "metadata": {},
     "output_type": "execute_result"
    }
   ],
   "source": [
    "sd_gp"
   ]
  },
  {
   "cell_type": "code",
   "execution_count": 221,
   "metadata": {},
   "outputs": [
    {
     "data": {
      "image/png": "[encoded data removed]",
      "text/plain": [
       "<Figure size 432x288 with 1 Axes>"
      ]
     },
     "metadata": {
      "needs_background": "light"
     },
     "output_type": "display_data"
    }
   ],
   "source": [
    "mon_sd = np.std(mon_df['Value'])\n",
    "tue_sd = np.std(tue_df['Value'])\n",
    "wed_sd = np.std(wed_df['Value'])\n",
    "thu_sd = np.std(thu_df['Value'])\n",
    "fri_sd = np.std(fri_df['Value'])\n",
    "\n",
    "mon_m = np.mean(mon_df['Value'])\n",
    "tue_m = np.mean(tue_df['Value'])\n",
    "wed_m = np.mean(wed_df['Value'])\n",
    "thu_m = np.mean(thu_df['Value'])\n",
    "fri_m = np.mean(fri_df['Value'])\n",
    "\n",
    "mean_gp = [mon_m, tue_m, wed_m, thu_m, fri_m]\n",
    "sd_gp = [mon_sd, tue_sd, wed_sd, thu_sd, fri_sd]\n",
    "# a = [2,4,6,8,10,12,14,16]\n",
    "# b = [1,1.5,2,2.5,3,3.5,4,4.5]\n",
    "# ab=[8,8.5,9,9.5,10,10.5,11]\n",
    "# cd=[3,3.5,3.7,4,4.5,5,5.2]\n",
    "# plt.scatter(a,b,label='mean',color='r')\n",
    "# plt.scatter(ab,cd,label='SD',color='b')\n",
    "plt.scatter(sd_gp, mean_gp, label='mean',color='r')\n",
    "plt.xlabel('Average')\n",
    "plt.ylabel('SD Standard Deviation')\n",
    "plt.title('Scatter Plot information')\n",
    "plt.legend()\n",
    "plt.show()\n"
   ]
  },
  {
   "cell_type": "code",
   "execution_count": 222,
   "metadata": {},
   "outputs": [],
   "source": [
    "eu_df = pd.DataFrame((eu_time_line.groupby(['Year', plot_period]).mean())).reset_index(plot_period)"
   ]
  },
  {
   "cell_type": "code",
   "execution_count": 75,
   "metadata": {},
   "outputs": [
    {
     "data": {
      "text/plain": [
       "Index(['Week', 'Value'], dtype='object')"
      ]
     },
     "execution_count": 75,
     "metadata": {},
     "output_type": "execute_result"
    }
   ],
   "source": [
    "eu_df.columns\n"
   ]
  },
  {
   "cell_type": "code",
   "execution_count": 76,
   "metadata": {},
   "outputs": [
    {
     "data": {
      "text/html": [
       "<div>\n",
       "<style scoped>\n",
       "    .dataframe tbody tr th:only-of-type {\n",
       "        vertical-align: middle;\n",
       "    }\n",
       "\n",
       "    .dataframe tbody tr th {\n",
       "        vertical-align: top;\n",
       "    }\n",
       "\n",
       "    .dataframe thead th {\n",
       "        text-align: right;\n",
       "    }\n",
       "</style>\n",
       "<table border=\"1\" class=\"dataframe\">\n",
       "  <thead>\n",
       "    <tr style=\"text-align: right;\">\n",
       "      <th></th>\n",
       "      <th>Week</th>\n",
       "      <th>Value</th>\n",
       "      <th>Rate Change</th>\n",
       "    </tr>\n",
       "    <tr>\n",
       "      <th>Year</th>\n",
       "      <th></th>\n",
       "      <th></th>\n",
       "      <th></th>\n",
       "    </tr>\n",
       "  </thead>\n",
       "  <tbody>\n",
       "    <tr>\n",
       "      <th>1999</th>\n",
       "      <td>01</td>\n",
       "      <td>0.85572</td>\n",
       "      <td>NaN</td>\n",
       "    </tr>\n",
       "    <tr>\n",
       "      <th>1999</th>\n",
       "      <td>02</td>\n",
       "      <td>0.86120</td>\n",
       "      <td>0.00548</td>\n",
       "    </tr>\n",
       "    <tr>\n",
       "      <th>1999</th>\n",
       "      <td>03</td>\n",
       "      <td>0.86310</td>\n",
       "      <td>0.00190</td>\n",
       "    </tr>\n",
       "    <tr>\n",
       "      <th>1999</th>\n",
       "      <td>04</td>\n",
       "      <td>0.87128</td>\n",
       "      <td>0.00818</td>\n",
       "    </tr>\n",
       "    <tr>\n",
       "      <th>1999</th>\n",
       "      <td>05</td>\n",
       "      <td>0.88404</td>\n",
       "      <td>0.01276</td>\n",
       "    </tr>\n",
       "  </tbody>\n",
       "</table>\n",
       "</div>"
      ],
      "text/plain": [
       "     Week    Value  Rate Change\n",
       "Year                           \n",
       "1999   01  0.85572          NaN\n",
       "1999   02  0.86120      0.00548\n",
       "1999   03  0.86310      0.00190\n",
       "1999   04  0.87128      0.00818\n",
       "1999   05  0.88404      0.01276"
      ]
     },
     "execution_count": 76,
     "metadata": {},
     "output_type": "execute_result"
    }
   ],
   "source": [
    "eu_df['Rate Change']=eu_df['Value'].diff(periods=1)\n",
    "eu_df.head()"
   ]
  },
  {
   "cell_type": "code",
   "execution_count": 77,
   "metadata": {},
   "outputs": [],
   "source": [
    "rate_change_df = pd.DataFrame()\n",
    "rate_change_df['Rate Change']=eu_df['Value'].diff(periods=1)*100/eu_df['Value']"
   ]
  },
  {
   "cell_type": "code",
   "execution_count": 78,
   "metadata": {},
   "outputs": [],
   "source": [
    "rate_change_df = rate_change_df.fillna(0)\n",
    "rate_change_to_use = rate_change_df.values"
   ]
  },
  {
   "cell_type": "code",
   "execution_count": 79,
   "metadata": {},
   "outputs": [
    {
     "data": {
      "text/plain": [
       "995"
      ]
     },
     "execution_count": 79,
     "metadata": {},
     "output_type": "execute_result"
    }
   ],
   "source": [
    "data_df = eu_df[~eu_df['Value'].isnull()]\n",
    "eu_rates = data_df['Value'].astype(float)\n",
    "# eu_rates = eu['Value'].astype(float)\n",
    "data_to_use=eu_rates.values\n",
    "data_to_use\n",
    "len(data_to_use)"
   ]
  },
  {
   "cell_type": "code",
   "execution_count": 80,
   "metadata": {},
   "outputs": [
    {
     "data": {
      "text/plain": [
       "995"
      ]
     },
     "execution_count": 80,
     "metadata": {},
     "output_type": "execute_result"
    }
   ],
   "source": [
    "len(data_to_use)"
   ]
  },
  {
   "cell_type": "code",
   "execution_count": 81,
   "metadata": {},
   "outputs": [
    {
     "data": {
      "image/png": "[encoded data removed]",
      "text/plain": [
       "<Figure size 864x504 with 1 Axes>"
      ]
     },
     "metadata": {},
     "output_type": "display_data"
    }
   ],
   "source": [
    "#data preprocessing(scaling)\n",
    "from sklearn.preprocessing import StandardScaler\n",
    "scaler = StandardScaler()\n",
    "scaled_data = scaler.fit_transform(data_to_use.reshape(-1, 1))\n",
    "# scaled_rate_change_data = scaler.fit_transform(rate_change_to_use.reshape(-1,1))\n",
    "\n",
    "#plotting the data\n",
    "import matplotlib.pyplot as plt\n",
    "plt.figure(figsize=(12,7), frameon=False, facecolor='brown', edgecolor='blue')\n",
    "plt.title('Daily Exchange rate 1999 to 2017')\n",
    "plt.xlabel('Days')\n",
    "plt.ylabel('Scaled Exchage')\n",
    "plt.plot(scaled_data, label='Daily Rate')\n",
    "plt.legend()\n",
    "plt.show()"
   ]
  },
  {
   "cell_type": "code",
   "execution_count": 82,
   "metadata": {},
   "outputs": [],
   "source": [
    "# eu[eu['Value'].isnull()]"
   ]
  },
  {
   "cell_type": "code",
   "execution_count": 83,
   "metadata": {
    "colab": {
     "base_uri": "https://localhost:8080/",
     "height": 92
    },
    "colab_type": "code",
    "id": "PM3y5iPb1HOn",
    "outputId": "f6dc911c-4091-48af-cff2-d9b153f32d7f"
   },
   "outputs": [
    {
     "name": "stdout",
     "output_type": "stream",
     "text": [
      "X_train size: (796, 1, 1)\n",
      "y_train size: (796, 1)\n",
      "X_test size: (198, 1, 1)\n",
      "y_test size: (198, 1)\n"
     ]
    }
   ],
   "source": [
    "# This function is used to create Features and Labels datasets. By windowing the data.\n",
    "#Input: data - dataset used in the project\n",
    "#window_size - how many data points we are going to use to predict the next datapoint in the sequence \n",
    "#[Example: if window_size = 1 we are going to use only the previous day to predict todays stock prices]\n",
    "#Outputs: X - features splitted into windows of datapoints (if window_size = 1, X = [len(data)-1, 1])\n",
    "#y - 'labels', actually this is the next number in the sequence, this number we are trying to predict\n",
    "\n",
    "def window_data(data, window_size):\n",
    "    X = []\n",
    "    y = []\n",
    "    \n",
    "    i = 0\n",
    "    while (i + window_size) <= len(data) - 1:\n",
    "        X.append(data[i:i+window_size])\n",
    "        y.append(data[i+window_size])\n",
    "        \n",
    "        i += 1\n",
    "    assert len(X) ==  len(y)\n",
    "    return X, y\n",
    "#windowing the data with window_data function\n",
    "X, y = window_data(scaled_data, window_size_en)\n",
    "\n",
    "\n",
    "#we now split the data into training and test set\n",
    "import numpy as np\n",
    "test_portion = len(X) // training_test_blocks\n",
    "train_i = len(X) - test_portion\n",
    "\n",
    "# X_train  = np.array(X[:1018])\n",
    "# y_train = np.array(y[:1018])\n",
    "\n",
    "# X_test = np.array(X[1018:])\n",
    "# y_test = np.array(y[1018:])\n",
    "\n",
    "X_train  = np.array(X[:train_i])\n",
    "y_train = np.array(y[:train_i])\n",
    "\n",
    "X_test = np.array(X[train_i:])\n",
    "y_test = np.array(y[train_i:])\n",
    "\n",
    "print(\"X_train size: {}\".format(X_train.shape))\n",
    "print(\"y_train size: {}\".format(y_train.shape))\n",
    "print(\"X_test size: {}\".format(X_test.shape))\n",
    "print(\"y_test size: {}\".format(y_test.shape))"
   ]
  },
  {
   "cell_type": "code",
   "execution_count": 84,
   "metadata": {},
   "outputs": [
    {
     "name": "stdout",
     "output_type": "stream",
     "text": [
      "X_train size: (796, 1, 1)\n",
      "y_train size: (796, 1)\n",
      "X_test size: (198, 1, 1)\n",
      "y_test size: (198, 1)\n"
     ]
    },
    {
     "data": {
      "text/plain": [
       "(198, 994, 5)"
      ]
     },
     "execution_count": 84,
     "metadata": {},
     "output_type": "execute_result"
    }
   ],
   "source": [
    "print(\"X_train size: {}\".format(X_train.shape))\n",
    "print(\"y_train size: {}\".format(y_train.shape))\n",
    "print(\"X_test size: {}\".format(X_test.shape))\n",
    "print(\"y_test size: {}\".format(y_test.shape))\n",
    "test_portion, len(X), training_test_blocks"
   ]
  },
  {
   "cell_type": "code",
   "execution_count": 85,
   "metadata": {
    "colab": {
     "base_uri": "https://localhost:8080/",
     "height": 149
    },
    "colab_type": "code",
    "id": "0h75jdrjToBv",
    "outputId": "3e608ca7-b3da-45aa-fdbe-8857e3402c28"
   },
   "outputs": [
    {
     "name": "stdout",
     "output_type": "stream",
     "text": [
      "WARNING:tensorflow:From C:\\Users\\OrsonKong\\Anaconda3\\lib\\site-packages\\tensorflow\\python\\framework\\op_def_library.py:263: colocate_with (from tensorflow.python.framework.ops) is deprecated and will be removed in a future version.\n",
      "Instructions for updating:\n",
      "Colocations handled automatically by placer.\n"
     ]
    },
    {
     "data": {
      "text/plain": [
       "[<tf.Tensor 'add_9:0' shape=(1, 1) dtype=float32>,\n",
       " <tf.Tensor 'add_19:0' shape=(1, 1) dtype=float32>,\n",
       " <tf.Tensor 'add_29:0' shape=(1, 1) dtype=float32>,\n",
       " <tf.Tensor 'add_39:0' shape=(1, 1) dtype=float32>,\n",
       " <tf.Tensor 'add_49:0' shape=(1, 1) dtype=float32>,\n",
       " <tf.Tensor 'add_59:0' shape=(1, 1) dtype=float32>,\n",
       " <tf.Tensor 'add_69:0' shape=(1, 1) dtype=float32>,\n",
       " <tf.Tensor 'add_79:0' shape=(1, 1) dtype=float32>,\n",
       " <tf.Tensor 'add_89:0' shape=(1, 1) dtype=float32>,\n",
       " <tf.Tensor 'add_99:0' shape=(1, 1) dtype=float32>]"
      ]
     },
     "execution_count": 85,
     "metadata": {},
     "output_type": "execute_result"
    }
   ],
   "source": [
    "#we define the placeholders\n",
    "inputs = tf.placeholder(tf.float32, [batch_size, window_size_en, 1])\n",
    "targets = tf.placeholder(tf.float32, [batch_size, 1])\n",
    "\n",
    "\n",
    "\n",
    "#weights and implementation of LSTM cell\n",
    "# LSTM weights\n",
    "\n",
    "#Weights for the input gate\n",
    "weights_input_gate = tf.Variable(tf.truncated_normal([1, hidden_layer], stddev=0.05))\n",
    "weights_input_hidden = tf.Variable(tf.truncated_normal([hidden_layer, hidden_layer], stddev=0.05))\n",
    "bias_input = tf.Variable(tf.zeros([hidden_layer]))\n",
    "\n",
    "#weights for the forgot gate\n",
    "weights_forget_gate = tf.Variable(tf.truncated_normal([1, hidden_layer], stddev=0.05))\n",
    "weights_forget_hidden = tf.Variable(tf.truncated_normal([hidden_layer, hidden_layer], stddev=0.05))\n",
    "bias_forget = tf.Variable(tf.zeros([hidden_layer]))\n",
    "\n",
    "#weights for the output gate\n",
    "weights_output_gate = tf.Variable(tf.truncated_normal([1, hidden_layer], stddev=0.05))\n",
    "weights_output_hidden = tf.Variable(tf.truncated_normal([hidden_layer, hidden_layer], stddev=0.05))\n",
    "bias_output = tf.Variable(tf.zeros([hidden_layer]))\n",
    "\n",
    "#weights for the memory cell\n",
    "weights_memory_cell = tf.Variable(tf.truncated_normal([1, hidden_layer], stddev=0.05))\n",
    "weights_memory_cell_hidden = tf.Variable(tf.truncated_normal([hidden_layer, hidden_layer], stddev=0.05))\n",
    "bias_memory_cell = tf.Variable(tf.zeros([hidden_layer]))\n",
    "\n",
    "#Output layer weigts\n",
    "weights_output = tf.Variable(tf.truncated_normal([hidden_layer, 1], stddev=0.05))\n",
    "bias_output_layer = tf.Variable(tf.zeros([1]))\n",
    "\n",
    "\n",
    "#function to compute the gate states\n",
    "def LSTM_cell(input, output, state):\n",
    "    \n",
    "    input_gate = tf.sigmoid(tf.matmul(input, weights_input_gate) + tf.matmul(output, weights_input_hidden) + bias_input)\n",
    "    \n",
    "    forget_gate = tf.sigmoid(tf.matmul(input, weights_forget_gate) + tf.matmul(output, weights_forget_hidden) + bias_forget)\n",
    "    \n",
    "    output_gate = tf.sigmoid(tf.matmul(input, weights_output_gate) + tf.matmul(output, weights_output_hidden) + bias_output)\n",
    "    \n",
    "    memory_cell = tf.tanh(tf.matmul(input, weights_memory_cell) + tf.matmul(output, weights_memory_cell_hidden) + bias_memory_cell)\n",
    "    \n",
    "    state = state * forget_gate + input_gate * memory_cell\n",
    "    \n",
    "    output = output_gate * tf.tanh(state)\n",
    "    return state, output\n",
    "  \n",
    "  \n",
    " #we now define loop for the network\n",
    "outputs = []\n",
    "for i in range(batch_size): #Iterates through every window in the batch\n",
    "  \n",
    "    #for each batch I am creating batch_state as all zeros and output for that window which is all zeros at the beginning as well.\n",
    "    batch_state = np.zeros([1, hidden_layer], dtype=np.float32) \n",
    "    batch_output = np.zeros([1, hidden_layer], dtype=np.float32)\n",
    "    \n",
    "    #for each point in the window we are feeding that into LSTM to get next output\n",
    "    for ii in range(window_size_en):\n",
    "        batch_state, batch_output = LSTM_cell(tf.reshape(inputs[i][ii], (-1, 1)), batch_state, batch_output)\n",
    "        \n",
    "    #last output is conisdered and used to get a prediction\n",
    "    outputs.append(tf.matmul(batch_output, weights_output) + bias_output_layer)\n",
    "outputs "
   ]
  },
  {
   "cell_type": "code",
   "execution_count": 86,
   "metadata": {
    "colab": {
     "base_uri": "https://localhost:8080/",
     "height": 149
    },
    "colab_type": "code",
    "id": "TRI3eUQzW6_S",
    "outputId": "448ec4e9-47d2-45ff-bcfc-751e452ddf8d"
   },
   "outputs": [
    {
     "name": "stdout",
     "output_type": "stream",
     "text": [
      "WARNING:tensorflow:From C:\\Users\\OrsonKong\\Anaconda3\\lib\\site-packages\\tensorflow\\python\\ops\\losses\\losses_impl.py:667: to_float (from tensorflow.python.ops.math_ops) is deprecated and will be removed in a future version.\n",
      "Instructions for updating:\n",
      "Use tf.cast instead.\n",
      "Epoch 0/10  Current loss: 0.9727884531021118\n",
      "Epoch 2/10  Current loss: 0.014317446388304234\n",
      "Epoch 4/10  Current loss: 0.006800096947699785\n",
      "Epoch 6/10  Current loss: 0.006229056045413017\n",
      "Epoch 8/10  Current loss: 0.006116836331784725\n",
      "Epoch 9/10  Current loss: 0.006073098164051771\n"
     ]
    }
   ],
   "source": [
    "#we define the loss\n",
    "losses = []\n",
    "\n",
    "for i in range(len(outputs)):\n",
    "    losses.append(tf.losses.mean_squared_error(tf.reshape(targets[i], (-1, 1)), outputs[i]))\n",
    "    \n",
    "loss = tf.reduce_mean(losses)\n",
    "\n",
    "#we define optimizer with gradient clipping\n",
    "gradients = tf.gradients(loss, tf.trainable_variables())\n",
    "clipped, _ = tf.clip_by_global_norm(gradients, clip_margin)\n",
    "optimizer = tf.train.AdamOptimizer(learning_rate)\n",
    "trained_optimizer = optimizer.apply_gradients(zip(gradients, tf.trainable_variables()))\n",
    "\n",
    "#we now train the network\n",
    "session = tf.Session()\n",
    "session.run(tf.global_variables_initializer())\n",
    "for i in range(epochs):\n",
    "    traind_scores = []\n",
    "    ii = 0\n",
    "    epoch_loss = []\n",
    "    while(ii + batch_size) <= len(X_train):\n",
    "        X_batch = X_train[ii:ii+batch_size]\n",
    "        y_batch = y_train[ii:ii+batch_size]\n",
    "        \n",
    "        o, c, _ = session.run([outputs, loss, trained_optimizer], feed_dict={inputs:X_batch, targets:y_batch})\n",
    "        \n",
    "        epoch_loss.append(c)\n",
    "        traind_scores.append(o)\n",
    "        ii += batch_size\n",
    "    if ((i % 2) == 0 or (i==(epochs-1))):\n",
    "        print('Epoch {}/{}'.format(i, epochs), ' Current loss: {}'.format(np.mean(epoch_loss)))\n",
    "        "
   ]
  },
  {
   "cell_type": "code",
   "execution_count": 87,
   "metadata": {
    "colab": {},
    "colab_type": "code",
    "id": "CNVKwdSxqvgY"
   },
   "outputs": [],
   "source": [
    "sup =[]\n",
    "for i in range(len(traind_scores)):\n",
    "    for j in range(len(traind_scores[i])):\n",
    "        sup.append(traind_scores[i][j][0])"
   ]
  },
  {
   "cell_type": "code",
   "execution_count": 88,
   "metadata": {},
   "outputs": [
    {
     "data": {
      "text/plain": [
       "((198, 1, 1), 79)"
      ]
     },
     "execution_count": 88,
     "metadata": {},
     "output_type": "execute_result"
    }
   ],
   "source": [
    "X_test.shape, len(traind_scores)"
   ]
  },
  {
   "cell_type": "code",
   "execution_count": 89,
   "metadata": {
    "colab": {},
    "colab_type": "code",
    "id": "xKLtQbXYqyIF"
   },
   "outputs": [],
   "source": [
    "tests = []\n",
    "i = 0\n",
    "while i+batch_size <= len(X_test): \n",
    "  \n",
    "    o = session.run([outputs],feed_dict={inputs:X_test[i:i+batch_size]})\n",
    "    i += batch_size\n",
    "    tests.append(o)"
   ]
  },
  {
   "cell_type": "code",
   "execution_count": 90,
   "metadata": {
    "colab": {},
    "colab_type": "code",
    "id": "kCypZOwVrIL1"
   },
   "outputs": [],
   "source": [
    "tests_new = []\n",
    "for i in range(len(tests)):\n",
    "    for j in range(len(tests[i][0])):\n",
    "        tests_new.append(tests[i][0][j])        "
   ]
  },
  {
   "cell_type": "code",
   "execution_count": 91,
   "metadata": {},
   "outputs": [
    {
     "data": {
      "text/plain": [
       "(190, 994)"
      ]
     },
     "execution_count": 91,
     "metadata": {},
     "output_type": "execute_result"
    }
   ],
   "source": [
    "len(tests_new), len(X)"
   ]
  },
  {
   "cell_type": "code",
   "execution_count": 92,
   "metadata": {},
   "outputs": [],
   "source": [
    "#for i, e in enumerate(tests_new): print(i, \" -> \",e)"
   ]
  },
  {
   "cell_type": "code",
   "execution_count": 93,
   "metadata": {},
   "outputs": [
    {
     "data": {
      "text/plain": [
       "(796, 190)"
      ]
     },
     "execution_count": 93,
     "metadata": {},
     "output_type": "execute_result"
    }
   ],
   "source": [
    "train_i, len(tests_new)"
   ]
  },
  {
   "cell_type": "code",
   "execution_count": 94,
   "metadata": {},
   "outputs": [],
   "source": [
    "test_results = []\n",
    "for e in range(train_i) : test_results.append(None)\n",
    "\n",
    "# rest from train_i to the end of list\n",
    "for i in range(len(tests_new)):\n",
    "#    print(\"i-> :\",i)\n",
    "    test_results.append(tests_new[i] )\n"
   ]
  },
  {
   "cell_type": "code",
   "execution_count": 95,
   "metadata": {
    "colab": {},
    "colab_type": "code",
    "id": "NnLnvsEzeGGY"
   },
   "outputs": [],
   "source": [
    "# test_results = []\n",
    "# g_i = train_i + 1\n",
    "# for i in range(len(X)):\n",
    "#     if i >= g_i:\n",
    "#         print(\"i i-gi -> \",i,\":\" , i-g_i, \":\",tests_new[i-g_i])\n",
    "#         test_results.append(tests_new[i-g_i])\n",
    "#     else:\n",
    "#         test_results.append(None)\n"
   ]
  },
  {
   "cell_type": "code",
   "execution_count": 98,
   "metadata": {
    "colab": {
     "base_uri": "https://localhost:8080/",
     "height": 457
    },
    "colab_type": "code",
    "id": "qnQJYH-HqsX4",
    "outputId": "585def6a-1789-4ab4-adf4-8a0146b8e2b8"
   },
   "outputs": [
    {
     "data": {
      "image/png": "[encoded data removed]",
      "text/plain": [
       "<Figure size 1152x504 with 1 Axes>"
      ]
     },
     "metadata": {
      "needs_background": "light"
     },
     "output_type": "display_data"
    }
   ],
   "source": [
    "#we now plot predictions from the network\n",
    "plt.figure(figsize=(16, 7))\n",
    "plt.title('Exchange rate by ' + plot_period)\n",
    "plt.xlabel('Days')\n",
    "plt.ylabel('EU/USA Exchange rate')\n",
    "plt.plot(scaled_data, label='Original data')\n",
    "plt.plot(sup, label='Training data')\n",
    "plt.plot(test_results, label='Testing data')\n",
    "# plt.plot(rate_change_to_use, label='Rate changes in %', color='y')\n",
    "plt.legend()\n",
    "plt.show()\n"
   ]
  },
  {
   "cell_type": "code",
   "execution_count": 118,
   "metadata": {},
   "outputs": [
    {
     "data": {
      "text/plain": [
       "array([[<matplotlib.axes._subplots.AxesSubplot object at 0x00000194D8D17CF8>]],\n",
       "      dtype=object)"
      ]
     },
     "execution_count": 118,
     "metadata": {},
     "output_type": "execute_result"
    },
    {
     "data": {
      "image/png": "[encoded data removed]",
      "text/plain": [
       "<Figure size 432x288 with 1 Axes>"
      ]
     },
     "metadata": {
      "needs_background": "light"
     },
     "output_type": "display_data"
    }
   ],
   "source": [
    "ratechanges=rate_change_df['Rate Change'].values\n",
    "rate_change_df.hist(bins=100)"
   ]
  },
  {
   "cell_type": "code",
   "execution_count": 102,
   "metadata": {},
   "outputs": [
    {
     "data": {
      "text/html": [
       "<div>\n",
       "<style scoped>\n",
       "    .dataframe tbody tr th:only-of-type {\n",
       "        vertical-align: middle;\n",
       "    }\n",
       "\n",
       "    .dataframe tbody tr th {\n",
       "        vertical-align: top;\n",
       "    }\n",
       "\n",
       "    .dataframe thead th {\n",
       "        text-align: right;\n",
       "    }\n",
       "</style>\n",
       "<table border=\"1\" class=\"dataframe\">\n",
       "  <thead>\n",
       "    <tr style=\"text-align: right;\">\n",
       "      <th></th>\n",
       "      <th>Rate Change</th>\n",
       "    </tr>\n",
       "    <tr>\n",
       "      <th>Year</th>\n",
       "      <th></th>\n",
       "    </tr>\n",
       "  </thead>\n",
       "  <tbody>\n",
       "    <tr>\n",
       "      <th>1999</th>\n",
       "      <td>0.000000</td>\n",
       "    </tr>\n",
       "    <tr>\n",
       "      <th>1999</th>\n",
       "      <td>0.636321</td>\n",
       "    </tr>\n",
       "    <tr>\n",
       "      <th>1999</th>\n",
       "      <td>0.220137</td>\n",
       "    </tr>\n",
       "    <tr>\n",
       "      <th>1999</th>\n",
       "      <td>0.938849</td>\n",
       "    </tr>\n",
       "    <tr>\n",
       "      <th>1999</th>\n",
       "      <td>1.443374</td>\n",
       "    </tr>\n",
       "    <tr>\n",
       "      <th>1999</th>\n",
       "      <td>0.083637</td>\n",
       "    </tr>\n",
       "    <tr>\n",
       "      <th>1999</th>\n",
       "      <td>1.089405</td>\n",
       "    </tr>\n",
       "    <tr>\n",
       "      <th>1999</th>\n",
       "      <td>1.486201</td>\n",
       "    </tr>\n",
       "    <tr>\n",
       "      <th>1999</th>\n",
       "      <td>1.250653</td>\n",
       "    </tr>\n",
       "    <tr>\n",
       "      <th>1999</th>\n",
       "      <td>-0.414974</td>\n",
       "    </tr>\n",
       "    <tr>\n",
       "      <th>1999</th>\n",
       "      <td>-0.311103</td>\n",
       "    </tr>\n",
       "    <tr>\n",
       "      <th>1999</th>\n",
       "      <td>0.741546</td>\n",
       "    </tr>\n",
       "    <tr>\n",
       "      <th>1999</th>\n",
       "      <td>1.005339</td>\n",
       "    </tr>\n",
       "    <tr>\n",
       "      <th>1999</th>\n",
       "      <td>-0.239529</td>\n",
       "    </tr>\n",
       "    <tr>\n",
       "      <th>1999</th>\n",
       "      <td>0.262575</td>\n",
       "    </tr>\n",
       "    <tr>\n",
       "      <th>1999</th>\n",
       "      <td>1.346158</td>\n",
       "    </tr>\n",
       "    <tr>\n",
       "      <th>1999</th>\n",
       "      <td>0.137823</td>\n",
       "    </tr>\n",
       "    <tr>\n",
       "      <th>1999</th>\n",
       "      <td>-0.820899</td>\n",
       "    </tr>\n",
       "    <tr>\n",
       "      <th>1999</th>\n",
       "      <td>-0.006414</td>\n",
       "    </tr>\n",
       "    <tr>\n",
       "      <th>1999</th>\n",
       "      <td>0.476606</td>\n",
       "    </tr>\n",
       "    <tr>\n",
       "      <th>1999</th>\n",
       "      <td>1.283344</td>\n",
       "    </tr>\n",
       "    <tr>\n",
       "      <th>1999</th>\n",
       "      <td>1.236873</td>\n",
       "    </tr>\n",
       "    <tr>\n",
       "      <th>1999</th>\n",
       "      <td>-0.605748</td>\n",
       "    </tr>\n",
       "    <tr>\n",
       "      <th>1999</th>\n",
       "      <td>0.661345</td>\n",
       "    </tr>\n",
       "    <tr>\n",
       "      <th>1999</th>\n",
       "      <td>0.093206</td>\n",
       "    </tr>\n",
       "    <tr>\n",
       "      <th>1999</th>\n",
       "      <td>0.543837</td>\n",
       "    </tr>\n",
       "    <tr>\n",
       "      <th>1999</th>\n",
       "      <td>0.831950</td>\n",
       "    </tr>\n",
       "    <tr>\n",
       "      <th>1999</th>\n",
       "      <td>0.233869</td>\n",
       "    </tr>\n",
       "    <tr>\n",
       "      <th>1999</th>\n",
       "      <td>-2.346634</td>\n",
       "    </tr>\n",
       "    <tr>\n",
       "      <th>1999</th>\n",
       "      <td>-2.276315</td>\n",
       "    </tr>\n",
       "    <tr>\n",
       "      <th>...</th>\n",
       "      <td>...</td>\n",
       "    </tr>\n",
       "    <tr>\n",
       "      <th>2017</th>\n",
       "      <td>0.424883</td>\n",
       "    </tr>\n",
       "    <tr>\n",
       "      <th>2017</th>\n",
       "      <td>-1.891526</td>\n",
       "    </tr>\n",
       "    <tr>\n",
       "      <th>2017</th>\n",
       "      <td>-0.889217</td>\n",
       "    </tr>\n",
       "    <tr>\n",
       "      <th>2017</th>\n",
       "      <td>-0.237988</td>\n",
       "    </tr>\n",
       "    <tr>\n",
       "      <th>2017</th>\n",
       "      <td>-0.051666</td>\n",
       "    </tr>\n",
       "    <tr>\n",
       "      <th>2017</th>\n",
       "      <td>0.244252</td>\n",
       "    </tr>\n",
       "    <tr>\n",
       "      <th>2017</th>\n",
       "      <td>0.448390</td>\n",
       "    </tr>\n",
       "    <tr>\n",
       "      <th>2017</th>\n",
       "      <td>-1.643916</td>\n",
       "    </tr>\n",
       "    <tr>\n",
       "      <th>2017</th>\n",
       "      <td>-0.351556</td>\n",
       "    </tr>\n",
       "    <tr>\n",
       "      <th>2017</th>\n",
       "      <td>-0.332177</td>\n",
       "    </tr>\n",
       "    <tr>\n",
       "      <th>2017</th>\n",
       "      <td>-1.365361</td>\n",
       "    </tr>\n",
       "    <tr>\n",
       "      <th>2017</th>\n",
       "      <td>-0.837748</td>\n",
       "    </tr>\n",
       "    <tr>\n",
       "      <th>2017</th>\n",
       "      <td>-1.336076</td>\n",
       "    </tr>\n",
       "    <tr>\n",
       "      <th>2017</th>\n",
       "      <td>0.503506</td>\n",
       "    </tr>\n",
       "    <tr>\n",
       "      <th>2017</th>\n",
       "      <td>0.192561</td>\n",
       "    </tr>\n",
       "    <tr>\n",
       "      <th>2017</th>\n",
       "      <td>-0.585790</td>\n",
       "    </tr>\n",
       "    <tr>\n",
       "      <th>2017</th>\n",
       "      <td>-1.091239</td>\n",
       "    </tr>\n",
       "    <tr>\n",
       "      <th>2017</th>\n",
       "      <td>-0.345034</td>\n",
       "    </tr>\n",
       "    <tr>\n",
       "      <th>2017</th>\n",
       "      <td>0.379529</td>\n",
       "    </tr>\n",
       "    <tr>\n",
       "      <th>2017</th>\n",
       "      <td>-0.260859</td>\n",
       "    </tr>\n",
       "    <tr>\n",
       "      <th>2017</th>\n",
       "      <td>1.455120</td>\n",
       "    </tr>\n",
       "    <tr>\n",
       "      <th>2017</th>\n",
       "      <td>0.436743</td>\n",
       "    </tr>\n",
       "    <tr>\n",
       "      <th>2017</th>\n",
       "      <td>-0.779129</td>\n",
       "    </tr>\n",
       "    <tr>\n",
       "      <th>2017</th>\n",
       "      <td>0.354288</td>\n",
       "    </tr>\n",
       "    <tr>\n",
       "      <th>2017</th>\n",
       "      <td>0.581382</td>\n",
       "    </tr>\n",
       "    <tr>\n",
       "      <th>2017</th>\n",
       "      <td>0.728415</td>\n",
       "    </tr>\n",
       "    <tr>\n",
       "      <th>2017</th>\n",
       "      <td>0.275594</td>\n",
       "    </tr>\n",
       "    <tr>\n",
       "      <th>2017</th>\n",
       "      <td>-1.316161</td>\n",
       "    </tr>\n",
       "    <tr>\n",
       "      <th>2017</th>\n",
       "      <td>-0.381188</td>\n",
       "    </tr>\n",
       "    <tr>\n",
       "      <th>2017</th>\n",
       "      <td>-0.757450</td>\n",
       "    </tr>\n",
       "  </tbody>\n",
       "</table>\n",
       "<p>997 rows × 1 columns</p>\n",
       "</div>"
      ],
      "text/plain": [
       "      Rate Change\n",
       "Year             \n",
       "1999     0.000000\n",
       "1999     0.636321\n",
       "1999     0.220137\n",
       "1999     0.938849\n",
       "1999     1.443374\n",
       "1999     0.083637\n",
       "1999     1.089405\n",
       "1999     1.486201\n",
       "1999     1.250653\n",
       "1999    -0.414974\n",
       "1999    -0.311103\n",
       "1999     0.741546\n",
       "1999     1.005339\n",
       "1999    -0.239529\n",
       "1999     0.262575\n",
       "1999     1.346158\n",
       "1999     0.137823\n",
       "1999    -0.820899\n",
       "1999    -0.006414\n",
       "1999     0.476606\n",
       "1999     1.283344\n",
       "1999     1.236873\n",
       "1999    -0.605748\n",
       "1999     0.661345\n",
       "1999     0.093206\n",
       "1999     0.543837\n",
       "1999     0.831950\n",
       "1999     0.233869\n",
       "1999    -2.346634\n",
       "1999    -2.276315\n",
       "...           ...\n",
       "2017     0.424883\n",
       "2017    -1.891526\n",
       "2017    -0.889217\n",
       "2017    -0.237988\n",
       "2017    -0.051666\n",
       "2017     0.244252\n",
       "2017     0.448390\n",
       "2017    -1.643916\n",
       "2017    -0.351556\n",
       "2017    -0.332177\n",
       "2017    -1.365361\n",
       "2017    -0.837748\n",
       "2017    -1.336076\n",
       "2017     0.503506\n",
       "2017     0.192561\n",
       "2017    -0.585790\n",
       "2017    -1.091239\n",
       "2017    -0.345034\n",
       "2017     0.379529\n",
       "2017    -0.260859\n",
       "2017     1.455120\n",
       "2017     0.436743\n",
       "2017    -0.779129\n",
       "2017     0.354288\n",
       "2017     0.581382\n",
       "2017     0.728415\n",
       "2017     0.275594\n",
       "2017    -1.316161\n",
       "2017    -0.381188\n",
       "2017    -0.757450\n",
       "\n",
       "[997 rows x 1 columns]"
      ]
     },
     "execution_count": 102,
     "metadata": {},
     "output_type": "execute_result"
    }
   ],
   "source": [
    "rate_change_df"
   ]
  },
  {
   "cell_type": "code",
   "execution_count": 83,
   "metadata": {},
   "outputs": [],
   "source": [
    "y_new_inverse = scaler.inverse_transform(y[len(y)-1])"
   ]
  },
  {
   "cell_type": "code",
   "execution_count": 84,
   "metadata": {},
   "outputs": [
    {
     "data": {
      "text/plain": [
       "array([0.8396])"
      ]
     },
     "execution_count": 84,
     "metadata": {},
     "output_type": "execute_result"
    }
   ],
   "source": [
    "y_new_inverse"
   ]
  },
  {
   "cell_type": "code",
   "execution_count": 85,
   "metadata": {},
   "outputs": [
    {
     "data": {
      "text/plain": [
       "array([0.28569424], dtype=float32)"
      ]
     },
     "execution_count": 85,
     "metadata": {},
     "output_type": "execute_result"
    }
   ],
   "source": [
    "tests_new[len(tests_new)-1]"
   ]
  },
  {
   "cell_type": "code",
   "execution_count": 86,
   "metadata": {},
   "outputs": [],
   "source": [
    "test_new_inverse = scaler.inverse_transform(tests_new[len(tests_new)-1])"
   ]
  },
  {
   "cell_type": "code",
   "execution_count": 87,
   "metadata": {},
   "outputs": [
    {
     "data": {
      "text/plain": [
       "array([[0.8837593]], dtype=float32)"
      ]
     },
     "execution_count": 87,
     "metadata": {},
     "output_type": "execute_result"
    }
   ],
   "source": [
    "test_new_inverse"
   ]
  },
  {
   "cell_type": "code",
   "execution_count": null,
   "metadata": {},
   "outputs": [],
   "source": []
  },
  {
   "cell_type": "code",
   "execution_count": null,
   "metadata": {},
   "outputs": [],
   "source": []
  }
 ],
 "metadata": {
  "colab": {
   "name": "btc.ipynb",
   "provenance": [],
   "version": "0.3.2"
  },
  "kernelspec": {
   "display_name": "Python 3",
   "language": "python",
   "name": "python3"
  },
  "language_info": {
   "codemirror_mode": {
    "name": "ipython",
    "version": 3
   },
   "file_extension": ".py",
   "mimetype": "text/x-python",
   "name": "python",
   "nbconvert_exporter": "python",
   "pygments_lexer": "ipython3",
   "version": "3.6.8"
  }
 },
 "nbformat": 4,
 "nbformat_minor": 1
}
